{
 "cells": [
  {
   "cell_type": "code",
   "execution_count": 1,
   "id": "4e425c92",
   "metadata": {
    "_cell_guid": "b1076dfc-b9ad-4769-8c92-a6c4dae69d19",
    "_uuid": "8f2839f25d086af736a60e9eeb907d3b93b6e0e5",
    "execution": {
     "iopub.execute_input": "2023-05-03T17:57:07.183882Z",
     "iopub.status.busy": "2023-05-03T17:57:07.183515Z",
     "iopub.status.idle": "2023-05-03T17:57:07.195781Z",
     "shell.execute_reply": "2023-05-03T17:57:07.194778Z"
    },
    "papermill": {
     "duration": 0.024799,
     "end_time": "2023-05-03T17:57:07.198216",
     "exception": false,
     "start_time": "2023-05-03T17:57:07.173417",
     "status": "completed"
    },
    "tags": []
   },
   "outputs": [],
   "source": [
    "import re\n",
    "\n",
    "import pandas as pd"
   ]
  },
  {
   "cell_type": "code",
   "execution_count": 2,
   "id": "31fca494",
   "metadata": {
    "execution": {
     "iopub.execute_input": "2023-05-03T17:57:07.216606Z",
     "iopub.status.busy": "2023-05-03T17:57:07.216251Z",
     "iopub.status.idle": "2023-05-03T17:57:07.621185Z",
     "shell.execute_reply": "2023-05-03T17:57:07.620177Z"
    },
    "papermill": {
     "duration": 0.416907,
     "end_time": "2023-05-03T17:57:07.623620",
     "exception": false,
     "start_time": "2023-05-03T17:57:07.206713",
     "status": "completed"
    },
    "tags": []
   },
   "outputs": [],
   "source": [
    "podrobno_df = pd.read_csv('/kaggle/input/podrobno-uz-dataset/podrobno_uz_translated_cleaned_labeled_compact.csv')\n",
    "uzreport_df = pd.read_csv('/kaggle/input/uzreport-uz-dataset/uzreport_uz_cleaned_labeled_compact.csv')\n",
    "gazeta_df = pd.read_csv('/kaggle/input/uznews-preprocessed-ready-for-training/uznews_preprocessed_labeled.csv')"
   ]
  },
  {
   "cell_type": "code",
   "execution_count": 3,
   "id": "cf5f5fbd",
   "metadata": {
    "execution": {
     "iopub.execute_input": "2023-05-03T17:57:07.641956Z",
     "iopub.status.busy": "2023-05-03T17:57:07.641025Z",
     "iopub.status.idle": "2023-05-03T17:57:07.669201Z",
     "shell.execute_reply": "2023-05-03T17:57:07.668162Z"
    },
    "papermill": {
     "duration": 0.039773,
     "end_time": "2023-05-03T17:57:07.671557",
     "exception": false,
     "start_time": "2023-05-03T17:57:07.631784",
     "status": "completed"
    },
    "tags": []
   },
   "outputs": [
    {
     "data": {
      "text/html": [
       "<div>\n",
       "<style scoped>\n",
       "    .dataframe tbody tr th:only-of-type {\n",
       "        vertical-align: middle;\n",
       "    }\n",
       "\n",
       "    .dataframe tbody tr th {\n",
       "        vertical-align: top;\n",
       "    }\n",
       "\n",
       "    .dataframe thead th {\n",
       "        text-align: right;\n",
       "    }\n",
       "</style>\n",
       "<table border=\"1\" class=\"dataframe\">\n",
       "  <thead>\n",
       "    <tr style=\"text-align: right;\">\n",
       "      <th></th>\n",
       "      <th>text</th>\n",
       "      <th>date</th>\n",
       "      <th>sentiment</th>\n",
       "      <th>promotional</th>\n",
       "    </tr>\n",
       "  </thead>\n",
       "  <tbody>\n",
       "    <tr>\n",
       "      <th>0</th>\n",
       "      <td>Mirziyoyev Germaniyaga tashrif buyurdi \\n\\nU ...</td>\n",
       "      <td>2023-05-02 13:23:49</td>\n",
       "      <td>negative</td>\n",
       "      <td>no</td>\n",
       "    </tr>\n",
       "    <tr>\n",
       "      <th>1</th>\n",
       "      <td>O'zbekistonda yana bir dam olish kuni bo'ladi...</td>\n",
       "      <td>2023-05-02 12:26:41</td>\n",
       "      <td>positive</td>\n",
       "      <td>no</td>\n",
       "    </tr>\n",
       "    <tr>\n",
       "      <th>2</th>\n",
       "      <td>O'zgidromet kelgusi may oyi uchun ob-havo pro...</td>\n",
       "      <td>2023-05-02 12:01:42</td>\n",
       "      <td>positive</td>\n",
       "      <td>no</td>\n",
       "    </tr>\n",
       "    <tr>\n",
       "      <th>3</th>\n",
       "      <td>Xitoyning CC7 Industries kompaniyasi Toshkent...</td>\n",
       "      <td>2023-05-02 11:29:48</td>\n",
       "      <td>positive</td>\n",
       "      <td>no</td>\n",
       "    </tr>\n",
       "    <tr>\n",
       "      <th>4</th>\n",
       "      <td>Toshkentda yana bir baxtsiz hodisa yuz berdi,...</td>\n",
       "      <td>2023-05-02 11:04:59</td>\n",
       "      <td>negative</td>\n",
       "      <td>no</td>\n",
       "    </tr>\n",
       "  </tbody>\n",
       "</table>\n",
       "</div>"
      ],
      "text/plain": [
       "                                                text                 date  \\\n",
       "0   Mirziyoyev Germaniyaga tashrif buyurdi \\n\\nU ...  2023-05-02 13:23:49   \n",
       "1   O'zbekistonda yana bir dam olish kuni bo'ladi...  2023-05-02 12:26:41   \n",
       "2   O'zgidromet kelgusi may oyi uchun ob-havo pro...  2023-05-02 12:01:42   \n",
       "3   Xitoyning CC7 Industries kompaniyasi Toshkent...  2023-05-02 11:29:48   \n",
       "4   Toshkentda yana bir baxtsiz hodisa yuz berdi,...  2023-05-02 11:04:59   \n",
       "\n",
       "  sentiment promotional  \n",
       "0  negative          no  \n",
       "1  positive          no  \n",
       "2  positive          no  \n",
       "3  positive          no  \n",
       "4  negative          no  "
      ]
     },
     "execution_count": 3,
     "metadata": {},
     "output_type": "execute_result"
    }
   ],
   "source": [
    "podrobno_df.head()"
   ]
  },
  {
   "cell_type": "code",
   "execution_count": 4,
   "id": "14c50939",
   "metadata": {
    "execution": {
     "iopub.execute_input": "2023-05-03T17:57:07.689801Z",
     "iopub.status.busy": "2023-05-03T17:57:07.689456Z",
     "iopub.status.idle": "2023-05-03T17:57:07.700699Z",
     "shell.execute_reply": "2023-05-03T17:57:07.699579Z"
    },
    "papermill": {
     "duration": 0.023,
     "end_time": "2023-05-03T17:57:07.703032",
     "exception": false,
     "start_time": "2023-05-03T17:57:07.680032",
     "status": "completed"
    },
    "tags": []
   },
   "outputs": [
    {
     "data": {
      "text/html": [
       "<div>\n",
       "<style scoped>\n",
       "    .dataframe tbody tr th:only-of-type {\n",
       "        vertical-align: middle;\n",
       "    }\n",
       "\n",
       "    .dataframe tbody tr th {\n",
       "        vertical-align: top;\n",
       "    }\n",
       "\n",
       "    .dataframe thead th {\n",
       "        text-align: right;\n",
       "    }\n",
       "</style>\n",
       "<table border=\"1\" class=\"dataframe\">\n",
       "  <thead>\n",
       "    <tr style=\"text-align: right;\">\n",
       "      <th></th>\n",
       "      <th>text</th>\n",
       "      <th>date</th>\n",
       "      <th>sentiment</th>\n",
       "      <th>promotional</th>\n",
       "    </tr>\n",
       "  </thead>\n",
       "  <tbody>\n",
       "    <tr>\n",
       "      <th>0</th>\n",
       "      <td>Finlyandiya o‘z hududida Amerika harbiy bazasi...</td>\n",
       "      <td>2023-05-02 12:31:58</td>\n",
       "      <td>negative</td>\n",
       "      <td>no</td>\n",
       "    </tr>\n",
       "    <tr>\n",
       "      <th>1</th>\n",
       "      <td>Bolgariya Bosh prokurori Ivan Geshevning hayot...</td>\n",
       "      <td>2023-05-02 12:02:00</td>\n",
       "      <td>positive</td>\n",
       "      <td>no</td>\n",
       "    </tr>\n",
       "    <tr>\n",
       "      <th>2</th>\n",
       "      <td>\"PSJ\" Messining o'rniga bir nechta nomzodlar k...</td>\n",
       "      <td>2023-05-02 11:45:48</td>\n",
       "      <td>positive</td>\n",
       "      <td>no</td>\n",
       "    </tr>\n",
       "    <tr>\n",
       "      <th>3</th>\n",
       "      <td>Endi 1-may Konstitutsiya kuni sifatida nishonl...</td>\n",
       "      <td>2023-05-02 11:31:41</td>\n",
       "      <td>negative</td>\n",
       "      <td>no</td>\n",
       "    </tr>\n",
       "    <tr>\n",
       "      <th>4</th>\n",
       "      <td>O'zbekistonda 3 oy ichida umumiy ovqatlanish k...</td>\n",
       "      <td>2023-05-02 11:15:41</td>\n",
       "      <td>positive</td>\n",
       "      <td>no</td>\n",
       "    </tr>\n",
       "  </tbody>\n",
       "</table>\n",
       "</div>"
      ],
      "text/plain": [
       "                                                text                 date  \\\n",
       "0  Finlyandiya o‘z hududida Amerika harbiy bazasi...  2023-05-02 12:31:58   \n",
       "1  Bolgariya Bosh prokurori Ivan Geshevning hayot...  2023-05-02 12:02:00   \n",
       "2  \"PSJ\" Messining o'rniga bir nechta nomzodlar k...  2023-05-02 11:45:48   \n",
       "3  Endi 1-may Konstitutsiya kuni sifatida nishonl...  2023-05-02 11:31:41   \n",
       "4  O'zbekistonda 3 oy ichida umumiy ovqatlanish k...  2023-05-02 11:15:41   \n",
       "\n",
       "  sentiment promotional  \n",
       "0  negative          no  \n",
       "1  positive          no  \n",
       "2  positive          no  \n",
       "3  negative          no  \n",
       "4  positive          no  "
      ]
     },
     "execution_count": 4,
     "metadata": {},
     "output_type": "execute_result"
    }
   ],
   "source": [
    "uzreport_df.head()"
   ]
  },
  {
   "cell_type": "code",
   "execution_count": 5,
   "id": "89a2b8e9",
   "metadata": {
    "execution": {
     "iopub.execute_input": "2023-05-03T17:57:07.722710Z",
     "iopub.status.busy": "2023-05-03T17:57:07.722323Z",
     "iopub.status.idle": "2023-05-03T17:57:07.732411Z",
     "shell.execute_reply": "2023-05-03T17:57:07.731411Z"
    },
    "papermill": {
     "duration": 0.022603,
     "end_time": "2023-05-03T17:57:07.734463",
     "exception": false,
     "start_time": "2023-05-03T17:57:07.711860",
     "status": "completed"
    },
    "tags": []
   },
   "outputs": [
    {
     "data": {
      "text/html": [
       "<div>\n",
       "<style scoped>\n",
       "    .dataframe tbody tr th:only-of-type {\n",
       "        vertical-align: middle;\n",
       "    }\n",
       "\n",
       "    .dataframe tbody tr th {\n",
       "        vertical-align: top;\n",
       "    }\n",
       "\n",
       "    .dataframe thead th {\n",
       "        text-align: right;\n",
       "    }\n",
       "</style>\n",
       "<table border=\"1\" class=\"dataframe\">\n",
       "  <thead>\n",
       "    <tr style=\"text-align: right;\">\n",
       "      <th></th>\n",
       "      <th>text</th>\n",
       "      <th>clean_text</th>\n",
       "      <th>sentiment</th>\n",
       "    </tr>\n",
       "  </thead>\n",
       "  <tbody>\n",
       "    <tr>\n",
       "      <th>0</th>\n",
       "      <td>O'zbekiston futbol assotsiatsiyasi intizom qo'...</td>\n",
       "      <td>ozbekiston futbol assotsiatsiyasi intizom qomi...</td>\n",
       "      <td>positive</td>\n",
       "    </tr>\n",
       "    <tr>\n",
       "      <th>1</th>\n",
       "      <td>Rustam Yusupov Toshkent obodonlashtirish Bosh ...</td>\n",
       "      <td>rustam yusupov toshkent obodonlashtirish bosh ...</td>\n",
       "      <td>positive</td>\n",
       "    </tr>\n",
       "    <tr>\n",
       "      <th>2</th>\n",
       "      <td>Xitoyning Yutong kompaniyasi yil oxirigacha Sa...</td>\n",
       "      <td>xitoyning yutong kompaniyasi yil oxirigacha sa...</td>\n",
       "      <td>positive</td>\n",
       "    </tr>\n",
       "    <tr>\n",
       "      <th>3</th>\n",
       "      <td>Samarqand viloyatida 3 gektar o'rmon xo'jaligi...</td>\n",
       "      <td>samarqand viloyatida gektar ormon xojaligi yer...</td>\n",
       "      <td>positive</td>\n",
       "    </tr>\n",
       "    <tr>\n",
       "      <th>4</th>\n",
       "      <td>Andijon viloyati Xonobodda bir kishi davlat or...</td>\n",
       "      <td>andijon viloyati xonobodda bir kishi davlat or...</td>\n",
       "      <td>negative</td>\n",
       "    </tr>\n",
       "  </tbody>\n",
       "</table>\n",
       "</div>"
      ],
      "text/plain": [
       "                                                text  \\\n",
       "0  O'zbekiston futbol assotsiatsiyasi intizom qo'...   \n",
       "1  Rustam Yusupov Toshkent obodonlashtirish Bosh ...   \n",
       "2  Xitoyning Yutong kompaniyasi yil oxirigacha Sa...   \n",
       "3  Samarqand viloyatida 3 gektar o'rmon xo'jaligi...   \n",
       "4  Andijon viloyati Xonobodda bir kishi davlat or...   \n",
       "\n",
       "                                          clean_text sentiment  \n",
       "0  ozbekiston futbol assotsiatsiyasi intizom qomi...  positive  \n",
       "1  rustam yusupov toshkent obodonlashtirish bosh ...  positive  \n",
       "2  xitoyning yutong kompaniyasi yil oxirigacha sa...  positive  \n",
       "3  samarqand viloyatida gektar ormon xojaligi yer...  positive  \n",
       "4  andijon viloyati xonobodda bir kishi davlat or...  negative  "
      ]
     },
     "execution_count": 5,
     "metadata": {},
     "output_type": "execute_result"
    }
   ],
   "source": [
    "gazeta_df.head()"
   ]
  },
  {
   "cell_type": "markdown",
   "id": "3b0af473",
   "metadata": {
    "papermill": {
     "duration": 0.0084,
     "end_time": "2023-05-03T17:57:07.751550",
     "exception": false,
     "start_time": "2023-05-03T17:57:07.743150",
     "status": "completed"
    },
    "tags": []
   },
   "source": [
    "# Data cleaning"
   ]
  },
  {
   "cell_type": "code",
   "execution_count": 6,
   "id": "1a5886ab",
   "metadata": {
    "execution": {
     "iopub.execute_input": "2023-05-03T17:57:07.770687Z",
     "iopub.status.busy": "2023-05-03T17:57:07.770293Z",
     "iopub.status.idle": "2023-05-03T17:57:07.777854Z",
     "shell.execute_reply": "2023-05-03T17:57:07.775473Z"
    },
    "papermill": {
     "duration": 0.020125,
     "end_time": "2023-05-03T17:57:07.780408",
     "exception": false,
     "start_time": "2023-05-03T17:57:07.760283",
     "status": "completed"
    },
    "tags": []
   },
   "outputs": [
    {
     "data": {
      "text/plain": [
       "Index(['text', 'date', 'sentiment', 'promotional'], dtype='object')"
      ]
     },
     "execution_count": 6,
     "metadata": {},
     "output_type": "execute_result"
    }
   ],
   "source": [
    "podrobno_df.columns"
   ]
  },
  {
   "cell_type": "code",
   "execution_count": 7,
   "id": "1082589c",
   "metadata": {
    "execution": {
     "iopub.execute_input": "2023-05-03T17:57:07.805407Z",
     "iopub.status.busy": "2023-05-03T17:57:07.805007Z",
     "iopub.status.idle": "2023-05-03T17:57:07.812343Z",
     "shell.execute_reply": "2023-05-03T17:57:07.811126Z"
    },
    "papermill": {
     "duration": 0.022367,
     "end_time": "2023-05-03T17:57:07.815063",
     "exception": false,
     "start_time": "2023-05-03T17:57:07.792696",
     "status": "completed"
    },
    "tags": []
   },
   "outputs": [
    {
     "data": {
      "text/plain": [
       "(7532, 4)"
      ]
     },
     "execution_count": 7,
     "metadata": {},
     "output_type": "execute_result"
    }
   ],
   "source": [
    "podrobno_df.shape"
   ]
  },
  {
   "cell_type": "code",
   "execution_count": 8,
   "id": "ec4c2e97",
   "metadata": {
    "execution": {
     "iopub.execute_input": "2023-05-03T17:57:07.842581Z",
     "iopub.status.busy": "2023-05-03T17:57:07.842222Z",
     "iopub.status.idle": "2023-05-03T17:57:07.858567Z",
     "shell.execute_reply": "2023-05-03T17:57:07.857368Z"
    },
    "papermill": {
     "duration": 0.032547,
     "end_time": "2023-05-03T17:57:07.862169",
     "exception": false,
     "start_time": "2023-05-03T17:57:07.829622",
     "status": "completed"
    },
    "tags": []
   },
   "outputs": [
    {
     "name": "stdout",
     "output_type": "stream",
     "text": [
      "(7229, 4)\n",
      "(19687, 4)\n"
     ]
    }
   ],
   "source": [
    "# consider only non-promotional news\n",
    "podrobno_df = podrobno_df[podrobno_df['promotional'] == 'no'] \n",
    "uzreport_df = uzreport_df[uzreport_df['promotional'] == 'no'] \n",
    "\n",
    "print(podrobno_df.shape)\n",
    "print(uzreport_df.shape)"
   ]
  },
  {
   "cell_type": "code",
   "execution_count": 9,
   "id": "ab5e87e3",
   "metadata": {
    "execution": {
     "iopub.execute_input": "2023-05-03T17:57:07.885888Z",
     "iopub.status.busy": "2023-05-03T17:57:07.884951Z",
     "iopub.status.idle": "2023-05-03T17:57:07.894001Z",
     "shell.execute_reply": "2023-05-03T17:57:07.892862Z"
    },
    "papermill": {
     "duration": 0.021866,
     "end_time": "2023-05-03T17:57:07.896440",
     "exception": false,
     "start_time": "2023-05-03T17:57:07.874574",
     "status": "completed"
    },
    "tags": []
   },
   "outputs": [
    {
     "data": {
      "text/plain": [
       "434                                                                                                                                                      O'zbekistonda hayvonlarga nisbatan shafqatsizlikning yana bir dahshatli holati qayd etildi. Buxoro viloyatida yashovchi burro quloqlarini vahshiyona kesib tashladi va hayvonni ko'chada qonga tashlab qo'ydi\\n\\n\n",
       "6514                                                        Davlat xavfsizlik xizmati (GBS) xodimlari Toshkentning bir nechta bozorlarida rahbar xodimlar tomonidan tovlamachilik va firibgarlik holatlarini aniqladilar.\\n\\nXususan, Yangiobod ixtisoslashtirilgan bozorining mas'ul xodimlaridan biri tadbirkorlik bilan shug'ullanmoqchi bo'lgan fuqarodan talab qildi,\n",
       "1575                                                                                                                                                                                                                                                 O'zbekiston fuqarosi Turkiyada zilzila oqibatida halok bo'ldi. Yana to'rt nafar o'zbekistonlik bedarak yo'qolgan.\\n\\n\n",
       "4386                                                                                                                                                                                                          Samarqandda qayta tiklangan rus-Xitoy banki binosida \" Buyuk ipak yo'li – O'zbekiston va Xitoyning oltin merosi \"nomli noyob ko'rgazma bo'lib o'tmoqda. \\n\\n\n",
       "6289                                                                                     Diqqat, odam g'oyib bo'ldi\\n\\nKamalov Rafik 1950 yilda tug'ilgan (72)\\n\\nIlgari u g'oyib bo'ldi, uchinchi kuni eski shaharda topildi, barcha eshiklarni taqillatdi, aholi militsiyani chaqirdi.\\n\\nIlgari Labzak ts13da yashagan\\n\\nIkkita sumka, narsalar va oziq-ovqat bor edi.\n",
       "722                                                                                                                                                                                                                                                                          Adliya katta maslahatchisi Bektosh Sayipov Qashqadaryo viloyati prokurori etib tayinlandi\\n\\n\n",
       "554                                                                                                                                                                                                                                                                        O'zbekistonda dorixonalardan yana bir dori – darmon - \"Tutukon Neo\"eritmasi chaqirib olindi\\n\\n\n",
       "505                                                                                                                                                                                                                                                       O'zbek bojxonachilari chegarada g'ayrioddiy kontrabanda yukini – fil tuskini va 180 kiyik shoxini topdilar. \\n\\n\n",
       "1907     Dubay o'zbeklar orasida tobora ommalashib borayotgan sayohat yo'nalishiga aylanmoqda. Har yili amirlikka respublikamizning 100 mingdan ortiq fuqarosi tashrif buyuradi. Ushbu sayyohlik maskani o'zbekistonliklarni ajoyib plyajlar va barcha turdagi o'yin-kulgilarga qo'shimcha ravishda jalb qiladi, chunki ular bu erda munosib takliflarni topishlari mumkin\n",
       "2212                                        O'zbekistonda shifokorlar uyma-uy yurib, birinchi tibbiy yordam to'plamlarini tekshirishni boshladilar. Shunday qilib, rasmiylar odamlarni muddati o'tgan va xavfli dori-darmonlardan, shu jumladan taniqli import qiluvchi Quramax Medical tomonidan olib kelingan dori-darmonlardan himoya qilishga harakat qilmoqdalar.\\n\\n\n",
       "Name: text, dtype: object"
      ]
     },
     "execution_count": 9,
     "metadata": {},
     "output_type": "execute_result"
    }
   ],
   "source": [
    "pd.set_option('display.max_colwidth', None)\n",
    "\n",
    "podrobno_df.sample(10)['text']"
   ]
  },
  {
   "cell_type": "code",
   "execution_count": 10,
   "id": "c5d8054a",
   "metadata": {
    "execution": {
     "iopub.execute_input": "2023-05-03T17:57:07.917042Z",
     "iopub.status.busy": "2023-05-03T17:57:07.916680Z",
     "iopub.status.idle": "2023-05-03T17:57:07.925566Z",
     "shell.execute_reply": "2023-05-03T17:57:07.924576Z"
    },
    "papermill": {
     "duration": 0.02143,
     "end_time": "2023-05-03T17:57:07.927554",
     "exception": false,
     "start_time": "2023-05-03T17:57:07.906124",
     "status": "completed"
    },
    "tags": []
   },
   "outputs": [
    {
     "data": {
      "text/plain": [
       "15983    Yil boshidan beri hokim yordamchilari tomonidan 14 ta jinoyat sodir etilgan\\n\\nBu kabi holatlarni oldini olish maqsadida hokim yordamchilarini halollik bo‘yicha maxsus kurslarda o‘qitish tizimi yo‘lga qo‘yildi\\n\\n https://uzreport.news/society/yil-boshidan-beri-hokim-yordamchilari-tomonidan-14-ta-jinoyat-sodir-etilgan\\n\\n\n",
       "5751                                                                                                                                      O'zbekistonliklar dam olish uchun tanlagan davlatlarining TOP-5 ro'yxati e'lon qilindi\\n\\n https://uzreport.news/society/ozbekistonliklar-dam-olish-tanlagan-top-5-davlat-royxati-elon-qilindi\\n\\n\n",
       "1416                                                                                                      Avstraliya MOQ rahbari rossiyalik sportchilarni Olimpiada-2032da qabul qilishga tayyorligini aytdi\\n\\n https://uzreport.news/sports/avstraliya-moq-rahbari-rossiyalik-sportchilarni-olimpiada-2032da-qabul-qilishga-tayyorligi\\n\\n\n",
       "15706                                                              Oʻzbekiston merganlari Turkiyada o'tkazilgan xalqaro musobaqada Germaniya, Qatar, Ozarbayjonni ortda qoldirib, ikkinchi oʻrinni egalladi\\n\\n https://uzreport.news/society/o-zbekiston-merganlari-xalqaro-musobaqada-germaniya-qatar-ozarbayjonni-ortda-qoldirib-ikki\\n\\n\n",
       "12652                                                                                                                Toshkentda maktabga ro'mol o'rab kelgan bir qancha qizlar darsga kiritilmagani aytilmoqda\\n\\n https://uzreport.news/society/toshkentda-maktabga-romol-orab-kelgan-bir-qancha-qizlar-darsga-kiritilmagani-aytilmoqda\\n\\n\n",
       "10723                                                                                                                        “Manchester Yunayted” futbolchilari Ronalduni 700-goli bilan tantanali tabriklashdi (foto)\\n\\n https://uzreport.news/football/manchester-yunayted-futbolchilari-ronalduni-700-goli-bilan-tabriklashdi-foto-\\n\\n\n",
       "7183                                                                                                                                              NBC: Dronlar evaziga Rossiya Eronga eng yangi qurollarini yetkazib bermoqda\\n\\n https://uzreport.news/world/nbc-dronlar-evaziga-rossiya-eronga-eng-yangi-qurollarini-yetkazib-bermoqda\\n\\n\n",
       "17966                                                                                                                                                                             Harri Keyn Agueroning APLdagi mutlaq rekordini takrorladi\\n\\n https://uzreport.news/football/harri-keyn-agueroning-apldagi-mutlaq-rekordini-takrorladi\\n\\n\n",
       "18453                                                                                                                                                                            Baxtiyar Menglibekov Mo‘ynoq tumani hokimi etib tayinlandi\\n\\n https://uzreport.news/society/baxtiyar-menglibekov-mo-ynoq-tumani-hokimi-etib-tayinlandi\\n\\n\n",
       "8437                                                                                                                           Suriyaga borib, jangovar tayyorgarlikdan o‘tgan 2 nafar o'zbekistonlik qo‘lga olindi\\n\\n https://uzreport.news/society/suriyaga-borib-jangovar-tayyorgarlikdan-o-tgan-2-nafar-ozbekistonlik-qo-lga-olindi\\n\\n\n",
       "Name: text, dtype: object"
      ]
     },
     "execution_count": 10,
     "metadata": {},
     "output_type": "execute_result"
    }
   ],
   "source": [
    "uzreport_df.sample(10)['text']"
   ]
  },
  {
   "cell_type": "markdown",
   "id": "2e7b40f4",
   "metadata": {
    "papermill": {
     "duration": 0.009127,
     "end_time": "2023-05-03T17:57:07.946017",
     "exception": false,
     "start_time": "2023-05-03T17:57:07.936890",
     "status": "completed"
    },
    "tags": []
   },
   "source": [
    "## clean function"
   ]
  },
  {
   "cell_type": "code",
   "execution_count": 11,
   "id": "7cde6eee",
   "metadata": {
    "execution": {
     "iopub.execute_input": "2023-05-03T17:57:07.966482Z",
     "iopub.status.busy": "2023-05-03T17:57:07.966064Z",
     "iopub.status.idle": "2023-05-03T17:57:07.972981Z",
     "shell.execute_reply": "2023-05-03T17:57:07.972171Z"
    },
    "papermill": {
     "duration": 0.019927,
     "end_time": "2023-05-03T17:57:07.975267",
     "exception": false,
     "start_time": "2023-05-03T17:57:07.955340",
     "status": "completed"
    },
    "tags": []
   },
   "outputs": [],
   "source": [
    "# final version\n",
    "def clean_text(text):\n",
    "    if not isinstance(text, str):\n",
    "        return ''\n",
    "\n",
    "    # Remove URLs\n",
    "    text = re.sub(r'http\\S+', '', text)\n",
    "    # Remove digits\n",
    "    text = re.sub(r'\\d+', '', text)\n",
    "    \n",
    "    # exception: replace / - _ with space\n",
    "    text = re.sub(r'/', ' ', text)\n",
    "    text = re.sub(r'[-_]', ' ', text)\n",
    "    \n",
    "    # Replace all ' with ‘ except for cases where it appears as a single character by itself\n",
    "    text = re.sub(r\"(?<!\\w)'(?!\\w)|'\", '‘', text)\n",
    "        \n",
    "    # Remove Russian letters\n",
    "    text = re.sub(r'[А-Яа-я]+', '', text)\n",
    "\n",
    "    # Remove all non-word characters except for ‘ and convert to lowercase\n",
    "    text = re.sub(r\"[^\\w\\s‘’]+(?<!‘)\", \"\", text).lower()\n",
    "\n",
    "    # Remove extra whitespace\n",
    "    text = re.sub(r'\\s+', ' ', text).strip()\n",
    "    return text"
   ]
  },
  {
   "cell_type": "markdown",
   "id": "0ba7896d",
   "metadata": {
    "papermill": {
     "duration": 0.009119,
     "end_time": "2023-05-03T17:57:07.994134",
     "exception": false,
     "start_time": "2023-05-03T17:57:07.985015",
     "status": "completed"
    },
    "tags": []
   },
   "source": [
    "## apply cleaning\n",
    "gazeta_df\n",
    "podrobno_df\n",
    "uzreport_df"
   ]
  },
  {
   "cell_type": "code",
   "execution_count": 12,
   "id": "61b478e8",
   "metadata": {
    "execution": {
     "iopub.execute_input": "2023-05-03T17:57:08.014855Z",
     "iopub.status.busy": "2023-05-03T17:57:08.014477Z",
     "iopub.status.idle": "2023-05-03T17:57:09.537176Z",
     "shell.execute_reply": "2023-05-03T17:57:09.536102Z"
    },
    "papermill": {
     "duration": 1.535731,
     "end_time": "2023-05-03T17:57:09.539466",
     "exception": false,
     "start_time": "2023-05-03T17:57:08.003735",
     "status": "completed"
    },
    "tags": []
   },
   "outputs": [],
   "source": [
    "gazeta_df['cleaned_text'] = gazeta_df['text'].apply(clean_text).copy()\n",
    "podrobno_df['cleaned_text'] = podrobno_df['text'].apply(clean_text).copy()\n",
    "uzreport_df['cleaned_text'] = uzreport_df['text'].apply(clean_text).copy()"
   ]
  },
  {
   "cell_type": "code",
   "execution_count": 13,
   "id": "5c575860",
   "metadata": {
    "execution": {
     "iopub.execute_input": "2023-05-03T17:57:09.560259Z",
     "iopub.status.busy": "2023-05-03T17:57:09.559519Z",
     "iopub.status.idle": "2023-05-03T17:57:09.585328Z",
     "shell.execute_reply": "2023-05-03T17:57:09.584249Z"
    },
    "papermill": {
     "duration": 0.039052,
     "end_time": "2023-05-03T17:57:09.587933",
     "exception": false,
     "start_time": "2023-05-03T17:57:09.548881",
     "status": "completed"
    },
    "tags": []
   },
   "outputs": [],
   "source": [
    "gazeta_df = gazeta_df[['cleaned_text', 'sentiment']]\n",
    "podrobno_df = podrobno_df[['cleaned_text', 'sentiment']]\n",
    "uzreport_df = uzreport_df[['cleaned_text', 'sentiment']]\n",
    "\n",
    "gazeta_df = gazeta_df.rename(columns={'cleaned_text': 'text'})\n",
    "podrobno_df = podrobno_df.rename(columns={'cleaned_text': 'text'})\n",
    "uzreport_df = uzreport_df.rename(columns={'cleaned_text': 'text'})"
   ]
  },
  {
   "cell_type": "code",
   "execution_count": 14,
   "id": "d3e69a2a",
   "metadata": {
    "execution": {
     "iopub.execute_input": "2023-05-03T17:57:09.608540Z",
     "iopub.status.busy": "2023-05-03T17:57:09.608189Z",
     "iopub.status.idle": "2023-05-03T17:57:09.621418Z",
     "shell.execute_reply": "2023-05-03T17:57:09.620199Z"
    },
    "papermill": {
     "duration": 0.026706,
     "end_time": "2023-05-03T17:57:09.624097",
     "exception": false,
     "start_time": "2023-05-03T17:57:09.597391",
     "status": "completed"
    },
    "tags": []
   },
   "outputs": [
    {
     "name": "stdout",
     "output_type": "stream",
     "text": [
      "11\n"
     ]
    }
   ],
   "source": [
    "# check for empty strings\n",
    "print((podrobno_df['text'].str.strip().str.len() == 0).sum())"
   ]
  },
  {
   "cell_type": "code",
   "execution_count": 15,
   "id": "a40da1c0",
   "metadata": {
    "execution": {
     "iopub.execute_input": "2023-05-03T17:57:09.645426Z",
     "iopub.status.busy": "2023-05-03T17:57:09.645052Z",
     "iopub.status.idle": "2023-05-03T17:57:09.659206Z",
     "shell.execute_reply": "2023-05-03T17:57:09.658349Z"
    },
    "papermill": {
     "duration": 0.02736,
     "end_time": "2023-05-03T17:57:09.661401",
     "exception": false,
     "start_time": "2023-05-03T17:57:09.634041",
     "status": "completed"
    },
    "tags": []
   },
   "outputs": [],
   "source": [
    "podrobno_df.drop(podrobno_df[podrobno_df['text'].str.strip().str.len() == 0].index, inplace=True)"
   ]
  },
  {
   "cell_type": "code",
   "execution_count": 16,
   "id": "03ad1afd",
   "metadata": {
    "execution": {
     "iopub.execute_input": "2023-05-03T17:57:09.682142Z",
     "iopub.status.busy": "2023-05-03T17:57:09.681743Z",
     "iopub.status.idle": "2023-05-03T17:57:09.694935Z",
     "shell.execute_reply": "2023-05-03T17:57:09.693297Z"
    },
    "papermill": {
     "duration": 0.026449,
     "end_time": "2023-05-03T17:57:09.697326",
     "exception": false,
     "start_time": "2023-05-03T17:57:09.670877",
     "status": "completed"
    },
    "tags": []
   },
   "outputs": [
    {
     "name": "stdout",
     "output_type": "stream",
     "text": [
      "0\n"
     ]
    }
   ],
   "source": [
    "# check again\n",
    "print((podrobno_df['text'].str.strip().str.len() == 0).sum())"
   ]
  },
  {
   "cell_type": "markdown",
   "id": "3c6ba46e",
   "metadata": {
    "papermill": {
     "duration": 0.009265,
     "end_time": "2023-05-03T17:57:09.716191",
     "exception": false,
     "start_time": "2023-05-03T17:57:09.706926",
     "status": "completed"
    },
    "tags": []
   },
   "source": [
    "## processing long texts: truncation"
   ]
  },
  {
   "cell_type": "code",
   "execution_count": 17,
   "id": "e232158a",
   "metadata": {
    "execution": {
     "iopub.execute_input": "2023-05-03T17:57:09.736870Z",
     "iopub.status.busy": "2023-05-03T17:57:09.736498Z",
     "iopub.status.idle": "2023-05-03T17:57:09.761077Z",
     "shell.execute_reply": "2023-05-03T17:57:09.759614Z"
    },
    "papermill": {
     "duration": 0.037571,
     "end_time": "2023-05-03T17:57:09.763322",
     "exception": false,
     "start_time": "2023-05-03T17:57:09.725751",
     "status": "completed"
    },
    "tags": []
   },
   "outputs": [
    {
     "name": "stdout",
     "output_type": "stream",
     "text": [
      "count    19687.000000\n",
      "mean       138.232082\n",
      "std         97.372912\n",
      "min          7.000000\n",
      "25%         78.000000\n",
      "50%        101.000000\n",
      "75%        156.000000\n",
      "max        446.000000\n",
      "Name: length, dtype: float64\n"
     ]
    }
   ],
   "source": [
    "uzreport_df['length'] = uzreport_df['text'].str.len()\n",
    "print(uzreport_df['length'].describe())"
   ]
  },
  {
   "cell_type": "code",
   "execution_count": 18,
   "id": "18355ae3",
   "metadata": {
    "execution": {
     "iopub.execute_input": "2023-05-03T17:57:09.784934Z",
     "iopub.status.busy": "2023-05-03T17:57:09.784229Z",
     "iopub.status.idle": "2023-05-03T17:57:09.797903Z",
     "shell.execute_reply": "2023-05-03T17:57:09.796416Z"
    },
    "papermill": {
     "duration": 0.027185,
     "end_time": "2023-05-03T17:57:09.800139",
     "exception": false,
     "start_time": "2023-05-03T17:57:09.772954",
     "status": "completed"
    },
    "tags": []
   },
   "outputs": [
    {
     "name": "stdout",
     "output_type": "stream",
     "text": [
      "count    7218.000000\n",
      "mean      206.240371\n",
      "std        97.633875\n",
      "min        19.000000\n",
      "25%       121.000000\n",
      "50%       183.000000\n",
      "75%       302.000000\n",
      "max       456.000000\n",
      "Name: length, dtype: float64\n"
     ]
    }
   ],
   "source": [
    "podrobno_df['length'] = podrobno_df['text'].str.len()\n",
    "print(podrobno_df['length'].describe())"
   ]
  },
  {
   "cell_type": "code",
   "execution_count": 19,
   "id": "cb2bcc7d",
   "metadata": {
    "execution": {
     "iopub.execute_input": "2023-05-03T17:57:09.821179Z",
     "iopub.status.busy": "2023-05-03T17:57:09.820776Z",
     "iopub.status.idle": "2023-05-03T17:57:09.834463Z",
     "shell.execute_reply": "2023-05-03T17:57:09.833155Z"
    },
    "papermill": {
     "duration": 0.026848,
     "end_time": "2023-05-03T17:57:09.836675",
     "exception": false,
     "start_time": "2023-05-03T17:57:09.809827",
     "status": "completed"
    },
    "tags": []
   },
   "outputs": [
    {
     "name": "stdout",
     "output_type": "stream",
     "text": [
      "count    3825.000000\n",
      "mean      266.758954\n",
      "std       120.210293\n",
      "min        48.000000\n",
      "25%       190.000000\n",
      "50%       254.000000\n",
      "75%       317.000000\n",
      "max      1964.000000\n",
      "Name: length, dtype: float64\n"
     ]
    }
   ],
   "source": [
    "gazeta_df['length'] = gazeta_df['text'].str.len()\n",
    "print(gazeta_df['length'].describe())"
   ]
  },
  {
   "cell_type": "code",
   "execution_count": 20,
   "id": "da11a989",
   "metadata": {
    "execution": {
     "iopub.execute_input": "2023-05-03T17:57:09.857737Z",
     "iopub.status.busy": "2023-05-03T17:57:09.857348Z",
     "iopub.status.idle": "2023-05-03T17:57:09.867477Z",
     "shell.execute_reply": "2023-05-03T17:57:09.866394Z"
    },
    "papermill": {
     "duration": 0.023374,
     "end_time": "2023-05-03T17:57:09.869719",
     "exception": false,
     "start_time": "2023-05-03T17:57:09.846345",
     "status": "completed"
    },
    "tags": []
   },
   "outputs": [
    {
     "data": {
      "text/plain": [
       "223"
      ]
     },
     "execution_count": 20,
     "metadata": {},
     "output_type": "execute_result"
    }
   ],
   "source": [
    "long_messages = gazeta_df[gazeta_df['length'] > 450]['text']\n",
    "long_messages.nunique()"
   ]
  },
  {
   "cell_type": "code",
   "execution_count": 21,
   "id": "5bba8b3c",
   "metadata": {
    "execution": {
     "iopub.execute_input": "2023-05-03T17:57:09.891272Z",
     "iopub.status.busy": "2023-05-03T17:57:09.890884Z",
     "iopub.status.idle": "2023-05-03T17:57:09.899405Z",
     "shell.execute_reply": "2023-05-03T17:57:09.898136Z"
    },
    "papermill": {
     "duration": 0.022089,
     "end_time": "2023-05-03T17:57:09.901731",
     "exception": false,
     "start_time": "2023-05-03T17:57:09.879642",
     "status": "completed"
    },
    "tags": []
   },
   "outputs": [],
   "source": [
    "max_length = 450\n",
    "\n",
    "gazeta_df['text'] = gazeta_df['text'].apply(lambda x: x[:max_length] if len(x) > max_length else x)"
   ]
  },
  {
   "cell_type": "code",
   "execution_count": 22,
   "id": "487d2b3b",
   "metadata": {
    "execution": {
     "iopub.execute_input": "2023-05-03T17:57:09.923407Z",
     "iopub.status.busy": "2023-05-03T17:57:09.923020Z",
     "iopub.status.idle": "2023-05-03T17:57:09.935271Z",
     "shell.execute_reply": "2023-05-03T17:57:09.934076Z"
    },
    "papermill": {
     "duration": 0.025357,
     "end_time": "2023-05-03T17:57:09.937256",
     "exception": false,
     "start_time": "2023-05-03T17:57:09.911899",
     "status": "completed"
    },
    "tags": []
   },
   "outputs": [
    {
     "name": "stdout",
     "output_type": "stream",
     "text": [
      "count    3825.000000\n",
      "mean      258.461438\n",
      "std        90.882345\n",
      "min        48.000000\n",
      "25%       190.000000\n",
      "50%       254.000000\n",
      "75%       317.000000\n",
      "max       450.000000\n",
      "Name: length, dtype: float64\n"
     ]
    }
   ],
   "source": [
    "gazeta_df['length'] = gazeta_df['text'].str.len()\n",
    "print(gazeta_df['length'].describe())"
   ]
  },
  {
   "cell_type": "markdown",
   "id": "d968ee77",
   "metadata": {
    "papermill": {
     "duration": 0.009362,
     "end_time": "2023-05-03T17:57:09.956412",
     "exception": false,
     "start_time": "2023-05-03T17:57:09.947050",
     "status": "completed"
    },
    "tags": []
   },
   "source": [
    "## saving preprocessed datasets"
   ]
  },
  {
   "cell_type": "code",
   "execution_count": 23,
   "id": "14ad59b7",
   "metadata": {
    "execution": {
     "iopub.execute_input": "2023-05-03T17:57:09.977834Z",
     "iopub.status.busy": "2023-05-03T17:57:09.977478Z",
     "iopub.status.idle": "2023-05-03T17:57:09.987403Z",
     "shell.execute_reply": "2023-05-03T17:57:09.986204Z"
    },
    "papermill": {
     "duration": 0.023629,
     "end_time": "2023-05-03T17:57:09.990010",
     "exception": false,
     "start_time": "2023-05-03T17:57:09.966381",
     "status": "completed"
    },
    "tags": []
   },
   "outputs": [],
   "source": [
    "gazeta_df = gazeta_df[['text', 'sentiment']]\n",
    "podrobno_df = podrobno_df[['text', 'sentiment']]\n",
    "uzreport_df = uzreport_df[['text', 'sentiment']]"
   ]
  },
  {
   "cell_type": "code",
   "execution_count": 24,
   "id": "b0a84bd3",
   "metadata": {
    "execution": {
     "iopub.execute_input": "2023-05-03T17:57:10.011878Z",
     "iopub.status.busy": "2023-05-03T17:57:10.011497Z",
     "iopub.status.idle": "2023-05-03T17:57:10.216967Z",
     "shell.execute_reply": "2023-05-03T17:57:10.215818Z"
    },
    "papermill": {
     "duration": 0.219276,
     "end_time": "2023-05-03T17:57:10.219557",
     "exception": false,
     "start_time": "2023-05-03T17:57:10.000281",
     "status": "completed"
    },
    "tags": []
   },
   "outputs": [],
   "source": [
    "gazeta_df.to_csv('gazetauz_preprocessed_ready_for_modeling.csv', index=False)\n",
    "podrobno_df.to_csv('podrobnouz_preprocessed_ready_for_modeling.csv', index=False)\n",
    "uzreport_df.to_csv('uzreportuz_preprocessed_ready_for_modeling.csv', index=False)"
   ]
  },
  {
   "cell_type": "code",
   "execution_count": 25,
   "id": "8751794b",
   "metadata": {
    "execution": {
     "iopub.execute_input": "2023-05-03T17:57:10.243095Z",
     "iopub.status.busy": "2023-05-03T17:57:10.242672Z",
     "iopub.status.idle": "2023-05-03T17:57:10.252093Z",
     "shell.execute_reply": "2023-05-03T17:57:10.251068Z"
    },
    "papermill": {
     "duration": 0.023777,
     "end_time": "2023-05-03T17:57:10.254534",
     "exception": false,
     "start_time": "2023-05-03T17:57:10.230757",
     "status": "completed"
    },
    "tags": []
   },
   "outputs": [
    {
     "data": {
      "text/plain": [
       "(30730, 2)"
      ]
     },
     "execution_count": 25,
     "metadata": {},
     "output_type": "execute_result"
    }
   ],
   "source": [
    "combined_df = pd.concat([gazeta_df, podrobno_df, uzreport_df], ignore_index=True)\n",
    "\n",
    "combined_df.shape"
   ]
  },
  {
   "cell_type": "code",
   "execution_count": 26,
   "id": "4f2923b0",
   "metadata": {
    "execution": {
     "iopub.execute_input": "2023-05-03T17:57:10.276185Z",
     "iopub.status.busy": "2023-05-03T17:57:10.275769Z",
     "iopub.status.idle": "2023-05-03T17:57:10.285803Z",
     "shell.execute_reply": "2023-05-03T17:57:10.284696Z"
    },
    "papermill": {
     "duration": 0.023592,
     "end_time": "2023-05-03T17:57:10.288208",
     "exception": false,
     "start_time": "2023-05-03T17:57:10.264616",
     "status": "completed"
    },
    "tags": []
   },
   "outputs": [
    {
     "data": {
      "text/html": [
       "<div>\n",
       "<style scoped>\n",
       "    .dataframe tbody tr th:only-of-type {\n",
       "        vertical-align: middle;\n",
       "    }\n",
       "\n",
       "    .dataframe tbody tr th {\n",
       "        vertical-align: top;\n",
       "    }\n",
       "\n",
       "    .dataframe thead th {\n",
       "        text-align: right;\n",
       "    }\n",
       "</style>\n",
       "<table border=\"1\" class=\"dataframe\">\n",
       "  <thead>\n",
       "    <tr style=\"text-align: right;\">\n",
       "      <th></th>\n",
       "      <th>text</th>\n",
       "      <th>sentiment</th>\n",
       "    </tr>\n",
       "  </thead>\n",
       "  <tbody>\n",
       "    <tr>\n",
       "      <th>0</th>\n",
       "      <td>o‘zbekiston futbol assotsiatsiyasi intizom qo‘mitasi bunyodkor va nasaffutbolchilari o‘rtasidagi ziddiyatni o‘rganmoqda</td>\n",
       "      <td>positive</td>\n",
       "    </tr>\n",
       "    <tr>\n",
       "      <th>1</th>\n",
       "      <td>rustam yusupov toshkent obodonlashtirish bosh boshqarmasi rahbari etib tayinlandi yanvar oyi oxirida anvar umarov ishdan bo‘shatilgandan keyin bu lavozim bo‘sh qoldi</td>\n",
       "      <td>positive</td>\n",
       "    </tr>\n",
       "    <tr>\n",
       "      <th>2</th>\n",
       "      <td>xitoyning yutong kompaniyasi yil oxirigacha samarqandga ta elektr avtobus yetkazib beradi shu jumladan yilning birinchi yarmida ta va uchinchi chorak oxirigacha ta hammasi bo‘lib ta elektr avtobus sotib olish rejalashtirilgan shaharda elektr avtobuslari uchun depo ham qurilishi rejalashtirilgan</td>\n",
       "      <td>positive</td>\n",
       "    </tr>\n",
       "    <tr>\n",
       "      <th>3</th>\n",
       "      <td>samarqand viloyatida gektar o‘rmon xo‘jaligi yerlarini ming dollarga sotishga uringan sotuvchi ming dollar avans olganida hibsga olingan</td>\n",
       "      <td>positive</td>\n",
       "    </tr>\n",
       "    <tr>\n",
       "      <th>4</th>\n",
       "      <td>andijon viloyati xonobodda bir kishi davlat organi xodimini pichoq bilan jarohatladi qasddan qotillikka urinishmoddasi bo‘yicha jinoiy ish qo‘zg‘atildi</td>\n",
       "      <td>negative</td>\n",
       "    </tr>\n",
       "  </tbody>\n",
       "</table>\n",
       "</div>"
      ],
      "text/plain": [
       "                                                                                                                                                                                                                                                                                                      text  \\\n",
       "0                                                                                                                                                                                  o‘zbekiston futbol assotsiatsiyasi intizom qo‘mitasi bunyodkor va nasaffutbolchilari o‘rtasidagi ziddiyatni o‘rganmoqda   \n",
       "1                                                                                                                                    rustam yusupov toshkent obodonlashtirish bosh boshqarmasi rahbari etib tayinlandi yanvar oyi oxirida anvar umarov ishdan bo‘shatilgandan keyin bu lavozim bo‘sh qoldi   \n",
       "2  xitoyning yutong kompaniyasi yil oxirigacha samarqandga ta elektr avtobus yetkazib beradi shu jumladan yilning birinchi yarmida ta va uchinchi chorak oxirigacha ta hammasi bo‘lib ta elektr avtobus sotib olish rejalashtirilgan shaharda elektr avtobuslari uchun depo ham qurilishi rejalashtirilgan   \n",
       "3                                                                                                                                                                 samarqand viloyatida gektar o‘rmon xo‘jaligi yerlarini ming dollarga sotishga uringan sotuvchi ming dollar avans olganida hibsga olingan   \n",
       "4                                                                                                                                                  andijon viloyati xonobodda bir kishi davlat organi xodimini pichoq bilan jarohatladi qasddan qotillikka urinishmoddasi bo‘yicha jinoiy ish qo‘zg‘atildi   \n",
       "\n",
       "  sentiment  \n",
       "0  positive  \n",
       "1  positive  \n",
       "2  positive  \n",
       "3  positive  \n",
       "4  negative  "
      ]
     },
     "execution_count": 26,
     "metadata": {},
     "output_type": "execute_result"
    }
   ],
   "source": [
    "combined_df.head()"
   ]
  },
  {
   "cell_type": "code",
   "execution_count": 27,
   "id": "28426fd6",
   "metadata": {
    "execution": {
     "iopub.execute_input": "2023-05-03T17:57:10.310754Z",
     "iopub.status.busy": "2023-05-03T17:57:10.310352Z",
     "iopub.status.idle": "2023-05-03T17:57:10.326336Z",
     "shell.execute_reply": "2023-05-03T17:57:10.325050Z"
    },
    "papermill": {
     "duration": 0.030017,
     "end_time": "2023-05-03T17:57:10.328520",
     "exception": false,
     "start_time": "2023-05-03T17:57:10.298503",
     "status": "completed"
    },
    "tags": []
   },
   "outputs": [
    {
     "data": {
      "text/html": [
       "<div>\n",
       "<style scoped>\n",
       "    .dataframe tbody tr th:only-of-type {\n",
       "        vertical-align: middle;\n",
       "    }\n",
       "\n",
       "    .dataframe tbody tr th {\n",
       "        vertical-align: top;\n",
       "    }\n",
       "\n",
       "    .dataframe thead th {\n",
       "        text-align: right;\n",
       "    }\n",
       "</style>\n",
       "<table border=\"1\" class=\"dataframe\">\n",
       "  <thead>\n",
       "    <tr style=\"text-align: right;\">\n",
       "      <th></th>\n",
       "      <th>text</th>\n",
       "      <th>sentiment</th>\n",
       "    </tr>\n",
       "  </thead>\n",
       "  <tbody>\n",
       "    <tr>\n",
       "      <th>0</th>\n",
       "      <td>milliy elektron ommaviy axborot vositalari assotsiatsiyasi naesmi o‘z nomini o‘zgartirdi endi bu o‘zbekiston milliy media assotsiatsiyasi mass media jamg‘armasi vasiylik kengashi raisi komil allamjonov ommaviy axborot vositalari vakillarini matbuotni birlashtirishning yangi nuqtasi yaratilgani bilan tabriklab nihoyat bu</td>\n",
       "      <td>positive</td>\n",
       "    </tr>\n",
       "    <tr>\n",
       "      <th>1</th>\n",
       "      <td>wizzair abu dabi arzon aviakompaniyasi abu dabi samarqand abu dabi yo‘nalishi bo‘yicha qo‘shimcha chastotani taqdim etadi</td>\n",
       "      <td>positive</td>\n",
       "    </tr>\n",
       "    <tr>\n",
       "      <th>2</th>\n",
       "      <td>yildan beri yuvinmagan dunyoning eng kir odami yoshida vafot etdi u haqida tasavvurga sig‘dirish ilojsiz bo‘lgan ma‘lumotlar yillab cho‘milmaganining sababi hayot tarzi va nega bunday yashagani haqida qiziqarli ma‘lumotlar va fotolarni ushbu xabarda o‘qishingiz mumkin</td>\n",
       "      <td>negative</td>\n",
       "    </tr>\n",
       "    <tr>\n",
       "      <th>3</th>\n",
       "      <td>o‘zbekiston birinchi kuzgi sovuqni kutmoqda dushanba kuni kechasi tungi harorat darajaga etadi kunduzgi harorat esa darajaga tushadi</td>\n",
       "      <td>positive</td>\n",
       "    </tr>\n",
       "    <tr>\n",
       "      <th>4</th>\n",
       "      <td>iyundan tibbiyot xodimlarining oylik maoshi oshiriladi</td>\n",
       "      <td>positive</td>\n",
       "    </tr>\n",
       "  </tbody>\n",
       "</table>\n",
       "</div>"
      ],
      "text/plain": [
       "                                                                                                                                                                                                                                                                                                                                text  \\\n",
       "0  milliy elektron ommaviy axborot vositalari assotsiatsiyasi naesmi o‘z nomini o‘zgartirdi endi bu o‘zbekiston milliy media assotsiatsiyasi mass media jamg‘armasi vasiylik kengashi raisi komil allamjonov ommaviy axborot vositalari vakillarini matbuotni birlashtirishning yangi nuqtasi yaratilgani bilan tabriklab nihoyat bu   \n",
       "1                                                                                                                                                                                                          wizzair abu dabi arzon aviakompaniyasi abu dabi samarqand abu dabi yo‘nalishi bo‘yicha qo‘shimcha chastotani taqdim etadi   \n",
       "2                                                       yildan beri yuvinmagan dunyoning eng kir odami yoshida vafot etdi u haqida tasavvurga sig‘dirish ilojsiz bo‘lgan ma‘lumotlar yillab cho‘milmaganining sababi hayot tarzi va nega bunday yashagani haqida qiziqarli ma‘lumotlar va fotolarni ushbu xabarda o‘qishingiz mumkin   \n",
       "3                                                                                                                                                                                               o‘zbekiston birinchi kuzgi sovuqni kutmoqda dushanba kuni kechasi tungi harorat darajaga etadi kunduzgi harorat esa darajaga tushadi   \n",
       "4                                                                                                                                                                                                                                                                             iyundan tibbiyot xodimlarining oylik maoshi oshiriladi   \n",
       "\n",
       "  sentiment  \n",
       "0  positive  \n",
       "1  positive  \n",
       "2  negative  \n",
       "3  positive  \n",
       "4  positive  "
      ]
     },
     "execution_count": 27,
     "metadata": {},
     "output_type": "execute_result"
    }
   ],
   "source": [
    "# shuffle the rows\n",
    "combined_df = combined_df.sample(frac=1).reset_index(drop=True)\n",
    "combined_df.head()"
   ]
  },
  {
   "cell_type": "code",
   "execution_count": 28,
   "id": "17a8a596",
   "metadata": {
    "execution": {
     "iopub.execute_input": "2023-05-03T17:57:10.351515Z",
     "iopub.status.busy": "2023-05-03T17:57:10.350740Z",
     "iopub.status.idle": "2023-05-03T17:57:10.357769Z",
     "shell.execute_reply": "2023-05-03T17:57:10.356758Z"
    },
    "papermill": {
     "duration": 0.020852,
     "end_time": "2023-05-03T17:57:10.359879",
     "exception": false,
     "start_time": "2023-05-03T17:57:10.339027",
     "status": "completed"
    },
    "tags": []
   },
   "outputs": [
    {
     "data": {
      "text/plain": [
       "(30730, 2)"
      ]
     },
     "execution_count": 28,
     "metadata": {},
     "output_type": "execute_result"
    }
   ],
   "source": [
    "combined_df.shape"
   ]
  },
  {
   "cell_type": "code",
   "execution_count": 29,
   "id": "90324305",
   "metadata": {
    "execution": {
     "iopub.execute_input": "2023-05-03T17:57:10.383154Z",
     "iopub.status.busy": "2023-05-03T17:57:10.382180Z",
     "iopub.status.idle": "2023-05-03T17:57:10.426310Z",
     "shell.execute_reply": "2023-05-03T17:57:10.424985Z"
    },
    "papermill": {
     "duration": 0.058189,
     "end_time": "2023-05-03T17:57:10.428685",
     "exception": false,
     "start_time": "2023-05-03T17:57:10.370496",
     "status": "completed"
    },
    "tags": []
   },
   "outputs": [
    {
     "name": "stdout",
     "output_type": "stream",
     "text": [
      "0\n"
     ]
    }
   ],
   "source": [
    "# check one more time for empty strings\n",
    "print((combined_df['text'].str.strip().str.len() == 0).sum())"
   ]
  },
  {
   "cell_type": "code",
   "execution_count": 30,
   "id": "69af959e",
   "metadata": {
    "execution": {
     "iopub.execute_input": "2023-05-03T17:57:10.451700Z",
     "iopub.status.busy": "2023-05-03T17:57:10.451338Z",
     "iopub.status.idle": "2023-05-03T17:57:10.482352Z",
     "shell.execute_reply": "2023-05-03T17:57:10.481346Z"
    },
    "papermill": {
     "duration": 0.045246,
     "end_time": "2023-05-03T17:57:10.484738",
     "exception": false,
     "start_time": "2023-05-03T17:57:10.439492",
     "status": "completed"
    },
    "tags": []
   },
   "outputs": [
    {
     "name": "stdout",
     "output_type": "stream",
     "text": [
      "count    30730.000000\n",
      "mean       169.171266\n",
      "std        106.156526\n",
      "min          7.000000\n",
      "25%         87.000000\n",
      "50%        129.000000\n",
      "75%        229.000000\n",
      "max        456.000000\n",
      "Name: length, dtype: float64\n"
     ]
    }
   ],
   "source": [
    "combined_df['length'] = combined_df['text'].str.len()\n",
    "print(combined_df['length'].describe())"
   ]
  },
  {
   "cell_type": "code",
   "execution_count": 31,
   "id": "76483d4f",
   "metadata": {
    "execution": {
     "iopub.execute_input": "2023-05-03T17:57:10.507840Z",
     "iopub.status.busy": "2023-05-03T17:57:10.507147Z",
     "iopub.status.idle": "2023-05-03T17:57:10.513774Z",
     "shell.execute_reply": "2023-05-03T17:57:10.512946Z"
    },
    "papermill": {
     "duration": 0.020343,
     "end_time": "2023-05-03T17:57:10.515775",
     "exception": false,
     "start_time": "2023-05-03T17:57:10.495432",
     "status": "completed"
    },
    "tags": []
   },
   "outputs": [],
   "source": [
    "combined_df = combined_df[['text', 'sentiment']]"
   ]
  },
  {
   "cell_type": "code",
   "execution_count": 32,
   "id": "f20a62f6",
   "metadata": {
    "execution": {
     "iopub.execute_input": "2023-05-03T17:57:10.538894Z",
     "iopub.status.busy": "2023-05-03T17:57:10.538539Z",
     "iopub.status.idle": "2023-05-03T17:57:10.740956Z",
     "shell.execute_reply": "2023-05-03T17:57:10.740158Z"
    },
    "papermill": {
     "duration": 0.216806,
     "end_time": "2023-05-03T17:57:10.743498",
     "exception": false,
     "start_time": "2023-05-03T17:57:10.526692",
     "status": "completed"
    },
    "tags": []
   },
   "outputs": [],
   "source": [
    "combined_df.to_csv('combined_uznews_30k_preprocessed_ready_for_modeling.csv', index=False)"
   ]
  },
  {
   "cell_type": "code",
   "execution_count": null,
   "id": "ff5b0a03",
   "metadata": {
    "papermill": {
     "duration": 0.010181,
     "end_time": "2023-05-03T17:57:10.764466",
     "exception": false,
     "start_time": "2023-05-03T17:57:10.754285",
     "status": "completed"
    },
    "tags": []
   },
   "outputs": [],
   "source": []
  }
 ],
 "metadata": {
  "kernelspec": {
   "display_name": "Python 3",
   "language": "python",
   "name": "python3"
  },
  "language_info": {
   "codemirror_mode": {
    "name": "ipython",
    "version": 3
   },
   "file_extension": ".py",
   "mimetype": "text/x-python",
   "name": "python",
   "nbconvert_exporter": "python",
   "pygments_lexer": "ipython3",
   "version": "3.10.10"
  },
  "papermill": {
   "default_parameters": {},
   "duration": 14.691984,
   "end_time": "2023-05-03T17:57:11.599159",
   "environment_variables": {},
   "exception": null,
   "input_path": "__notebook__.ipynb",
   "output_path": "__notebook__.ipynb",
   "parameters": {},
   "start_time": "2023-05-03T17:56:56.907175",
   "version": "2.4.0"
  }
 },
 "nbformat": 4,
 "nbformat_minor": 5
}
