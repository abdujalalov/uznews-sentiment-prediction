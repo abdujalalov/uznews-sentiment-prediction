{
 "metadata": {
  "kernelspec": {
   "language": "python",
   "display_name": "Python 3",
   "name": "python3"
  },
  "language_info": {
   "name": "python",
   "version": "3.10.10",
   "mimetype": "text/x-python",
   "codemirror_mode": {
    "name": "ipython",
    "version": 3
   },
   "pygments_lexer": "ipython3",
   "nbconvert_exporter": "python",
   "file_extension": ".py"
  }
 },
 "nbformat_minor": 4,
 "nbformat": 4,
 "cells": [
  {
   "cell_type": "code",
   "source": [
    "import numpy as np\n",
    "import pandas as pd\n",
    "import tensorflow as tf\n",
    "\n",
    "from sklearn import preprocessing\n",
    "from imblearn.over_sampling import RandomOverSampler\n",
    "from sklearn.model_selection import train_test_split\n",
    "\n",
    "from transformers import TFRobertaModel\n",
    "from transformers import AutoTokenizer\n",
    "\n",
    "import tensorflow as tf\n",
    "from tensorflow import keras\n",
    "\n",
    "from sklearn.metrics import accuracy_score, f1_score\n",
    "from sklearn.metrics import classification_report"
   ],
   "metadata": {
    "_uuid": "8f2839f25d086af736a60e9eeb907d3b93b6e0e5",
    "_cell_guid": "b1076dfc-b9ad-4769-8c92-a6c4dae69d19",
    "execution": {
     "iopub.status.busy": "2023-05-03T18:44:47.073326Z",
     "iopub.execute_input": "2023-05-03T18:44:47.073657Z",
     "iopub.status.idle": "2023-05-03T18:44:58.237750Z",
     "shell.execute_reply.started": "2023-05-03T18:44:47.073628Z",
     "shell.execute_reply": "2023-05-03T18:44:58.236771Z"
    },
    "trusted": true
   },
   "execution_count": 1,
   "outputs": [
    {
     "name": "stderr",
     "text": "/opt/conda/lib/python3.10/site-packages/scipy/__init__.py:146: UserWarning: A NumPy version >=1.16.5 and <1.23.0 is required for this version of SciPy (detected version 1.23.5\n  warnings.warn(f\"A NumPy version >={np_minversion} and <{np_maxversion}\"\n",
     "output_type": "stream"
    }
   ]
  },
  {
   "cell_type": "code",
   "source": [
    "filename = \"/kaggle/input/uzbek-news-preprocessed-datasets/combined_uznews_30k_preprocessed_ready_for_modeling.csv\"\n",
    "df = pd.read_csv(filename)\n",
    "df.head()"
   ],
   "metadata": {
    "execution": {
     "iopub.status.busy": "2023-05-03T18:44:58.239332Z",
     "iopub.execute_input": "2023-05-03T18:44:58.239895Z",
     "iopub.status.idle": "2023-05-03T18:44:58.445003Z",
     "shell.execute_reply.started": "2023-05-03T18:44:58.239867Z",
     "shell.execute_reply": "2023-05-03T18:44:58.443959Z"
    },
    "trusted": true
   },
   "execution_count": 2,
   "outputs": [
    {
     "execution_count": 2,
     "output_type": "execute_result",
     "data": {
      "text/plain": "                                                text sentiment\n0  milliy elektron ommaviy axborot vositalari ass...  positive\n1  wizzair abu dabi arzon aviakompaniyasi abu dab...  positive\n2  yildan beri yuvinmagan dunyoning eng kir odami...  negative\n3  o‘zbekiston birinchi kuzgi sovuqni kutmoqda du...  positive\n4  iyundan tibbiyot xodimlarining oylik maoshi os...  positive",
      "text/html": "<div>\n<style scoped>\n    .dataframe tbody tr th:only-of-type {\n        vertical-align: middle;\n    }\n\n    .dataframe tbody tr th {\n        vertical-align: top;\n    }\n\n    .dataframe thead th {\n        text-align: right;\n    }\n</style>\n<table border=\"1\" class=\"dataframe\">\n  <thead>\n    <tr style=\"text-align: right;\">\n      <th></th>\n      <th>text</th>\n      <th>sentiment</th>\n    </tr>\n  </thead>\n  <tbody>\n    <tr>\n      <th>0</th>\n      <td>milliy elektron ommaviy axborot vositalari ass...</td>\n      <td>positive</td>\n    </tr>\n    <tr>\n      <th>1</th>\n      <td>wizzair abu dabi arzon aviakompaniyasi abu dab...</td>\n      <td>positive</td>\n    </tr>\n    <tr>\n      <th>2</th>\n      <td>yildan beri yuvinmagan dunyoning eng kir odami...</td>\n      <td>negative</td>\n    </tr>\n    <tr>\n      <th>3</th>\n      <td>o‘zbekiston birinchi kuzgi sovuqni kutmoqda du...</td>\n      <td>positive</td>\n    </tr>\n    <tr>\n      <th>4</th>\n      <td>iyundan tibbiyot xodimlarining oylik maoshi os...</td>\n      <td>positive</td>\n    </tr>\n  </tbody>\n</table>\n</div>"
     },
     "metadata": {}
    }
   ]
  },
  {
   "cell_type": "code",
   "source": [
    "df['sentiment'] = df['sentiment'].replace({'positive': 1, 'negative': 0})\n",
    "df.head()"
   ],
   "metadata": {
    "execution": {
     "iopub.status.busy": "2023-05-03T18:44:58.448214Z",
     "iopub.execute_input": "2023-05-03T18:44:58.448533Z",
     "iopub.status.idle": "2023-05-03T18:44:58.472570Z",
     "shell.execute_reply.started": "2023-05-03T18:44:58.448508Z",
     "shell.execute_reply": "2023-05-03T18:44:58.471812Z"
    },
    "trusted": true
   },
   "execution_count": 3,
   "outputs": [
    {
     "execution_count": 3,
     "output_type": "execute_result",
     "data": {
      "text/plain": "                                                text  sentiment\n0  milliy elektron ommaviy axborot vositalari ass...          1\n1  wizzair abu dabi arzon aviakompaniyasi abu dab...          1\n2  yildan beri yuvinmagan dunyoning eng kir odami...          0\n3  o‘zbekiston birinchi kuzgi sovuqni kutmoqda du...          1\n4  iyundan tibbiyot xodimlarining oylik maoshi os...          1",
      "text/html": "<div>\n<style scoped>\n    .dataframe tbody tr th:only-of-type {\n        vertical-align: middle;\n    }\n\n    .dataframe tbody tr th {\n        vertical-align: top;\n    }\n\n    .dataframe thead th {\n        text-align: right;\n    }\n</style>\n<table border=\"1\" class=\"dataframe\">\n  <thead>\n    <tr style=\"text-align: right;\">\n      <th></th>\n      <th>text</th>\n      <th>sentiment</th>\n    </tr>\n  </thead>\n  <tbody>\n    <tr>\n      <th>0</th>\n      <td>milliy elektron ommaviy axborot vositalari ass...</td>\n      <td>1</td>\n    </tr>\n    <tr>\n      <th>1</th>\n      <td>wizzair abu dabi arzon aviakompaniyasi abu dab...</td>\n      <td>1</td>\n    </tr>\n    <tr>\n      <th>2</th>\n      <td>yildan beri yuvinmagan dunyoning eng kir odami...</td>\n      <td>0</td>\n    </tr>\n    <tr>\n      <th>3</th>\n      <td>o‘zbekiston birinchi kuzgi sovuqni kutmoqda du...</td>\n      <td>1</td>\n    </tr>\n    <tr>\n      <th>4</th>\n      <td>iyundan tibbiyot xodimlarining oylik maoshi os...</td>\n      <td>1</td>\n    </tr>\n  </tbody>\n</table>\n</div>"
     },
     "metadata": {}
    }
   ]
  },
  {
   "cell_type": "markdown",
   "source": [
    "## Class Balancing by RandomOverSampler"
   ],
   "metadata": {}
  },
  {
   "cell_type": "code",
   "source": [
    "ros = RandomOverSampler()\n",
    "train_x, train_y = ros.fit_resample(np.array(df['text']).reshape(-1, 1), np.array(df['sentiment']).reshape(-1, 1));\n",
    "train_os = pd.DataFrame(list(zip([x[0] for x in train_x], train_y)), columns = ['text', 'sentiment']);"
   ],
   "metadata": {
    "execution": {
     "iopub.status.busy": "2023-05-03T18:44:58.475058Z",
     "iopub.execute_input": "2023-05-03T18:44:58.475422Z",
     "iopub.status.idle": "2023-05-03T18:44:58.627903Z",
     "shell.execute_reply.started": "2023-05-03T18:44:58.475388Z",
     "shell.execute_reply": "2023-05-03T18:44:58.626891Z"
    },
    "trusted": true
   },
   "execution_count": 4,
   "outputs": []
  },
  {
   "cell_type": "code",
   "source": [
    "train_os['sentiment'].value_counts()"
   ],
   "metadata": {
    "execution": {
     "iopub.status.busy": "2023-05-03T18:44:58.630734Z",
     "iopub.execute_input": "2023-05-03T18:44:58.631577Z",
     "iopub.status.idle": "2023-05-03T18:44:58.645395Z",
     "shell.execute_reply.started": "2023-05-03T18:44:58.631534Z",
     "shell.execute_reply": "2023-05-03T18:44:58.644389Z"
    },
    "trusted": true
   },
   "execution_count": 5,
   "outputs": [
    {
     "execution_count": 5,
     "output_type": "execute_result",
     "data": {
      "text/plain": "1    23849\n0    23849\nName: sentiment, dtype: int64"
     },
     "metadata": {}
    }
   ]
  },
  {
   "cell_type": "markdown",
   "source": [
    "## Train - Validation - Test split"
   ],
   "metadata": {}
  },
  {
   "cell_type": "code",
   "source": [
    "X = train_os['text'].values\n",
    "y = train_os['sentiment'].values"
   ],
   "metadata": {
    "execution": {
     "iopub.status.busy": "2023-05-03T18:44:58.647204Z",
     "iopub.execute_input": "2023-05-03T18:44:58.647650Z",
     "iopub.status.idle": "2023-05-03T18:44:58.653331Z",
     "shell.execute_reply.started": "2023-05-03T18:44:58.647615Z",
     "shell.execute_reply": "2023-05-03T18:44:58.652297Z"
    },
    "trusted": true
   },
   "execution_count": 6,
   "outputs": []
  },
  {
   "cell_type": "code",
   "source": [
    "seed=42\n",
    "\n",
    "# split the original data into train and TEST sets\n",
    "X_train_val, X_test, y_train_val, y_test = train_test_split(X, y, test_size=0.1, random_state=seed)\n",
    "\n",
    "# split the remaining 90% of the data into train and VALIDATION sets\n",
    "X_train, X_valid, y_train, y_valid = train_test_split(X_train_val, y_train_val, test_size=0.1, random_state=seed)"
   ],
   "metadata": {
    "execution": {
     "iopub.status.busy": "2023-05-03T18:44:58.655150Z",
     "iopub.execute_input": "2023-05-03T18:44:58.655465Z",
     "iopub.status.idle": "2023-05-03T18:44:58.667530Z",
     "shell.execute_reply.started": "2023-05-03T18:44:58.655436Z",
     "shell.execute_reply": "2023-05-03T18:44:58.666752Z"
    },
    "trusted": true
   },
   "execution_count": 7,
   "outputs": []
  },
  {
   "cell_type": "markdown",
   "source": [
    "## One hot encoding"
   ],
   "metadata": {}
  },
  {
   "cell_type": "code",
   "source": [
    "y_train_le = y_train.copy()\n",
    "y_valid_le = y_valid.copy()\n",
    "y_test_le = y_test.copy()"
   ],
   "metadata": {
    "execution": {
     "iopub.status.busy": "2023-05-03T18:44:58.669027Z",
     "iopub.execute_input": "2023-05-03T18:44:58.669418Z",
     "iopub.status.idle": "2023-05-03T18:44:58.674229Z",
     "shell.execute_reply.started": "2023-05-03T18:44:58.669388Z",
     "shell.execute_reply": "2023-05-03T18:44:58.673259Z"
    },
    "trusted": true
   },
   "execution_count": 8,
   "outputs": []
  },
  {
   "cell_type": "code",
   "source": [
    "ohe = preprocessing.OneHotEncoder()\n",
    "y_train = ohe.fit_transform(np.array(y_train).reshape(-1, 1)).toarray()\n",
    "y_valid = ohe.fit_transform(np.array(y_valid).reshape(-1, 1)).toarray()\n",
    "y_test = ohe.fit_transform(np.array(y_test).reshape(-1, 1)).toarray()"
   ],
   "metadata": {
    "execution": {
     "iopub.status.busy": "2023-05-03T18:44:58.675799Z",
     "iopub.execute_input": "2023-05-03T18:44:58.676268Z",
     "iopub.status.idle": "2023-05-03T18:44:58.693403Z",
     "shell.execute_reply.started": "2023-05-03T18:44:58.676112Z",
     "shell.execute_reply": "2023-05-03T18:44:58.692660Z"
    },
    "trusted": true
   },
   "execution_count": 9,
   "outputs": []
  },
  {
   "cell_type": "code",
   "source": [
    "print(f\"TRAINING DATA: {X_train.shape[0]}\\nVALIDATION DATA: {X_valid.shape[0]}\\nTESTING DATA: {X_test.shape[0]}\" )"
   ],
   "metadata": {
    "execution": {
     "iopub.status.busy": "2023-05-03T18:44:58.696745Z",
     "iopub.execute_input": "2023-05-03T18:44:58.696999Z",
     "iopub.status.idle": "2023-05-03T18:44:58.701580Z",
     "shell.execute_reply.started": "2023-05-03T18:44:58.696978Z",
     "shell.execute_reply": "2023-05-03T18:44:58.700540Z"
    },
    "trusted": true
   },
   "execution_count": 10,
   "outputs": [
    {
     "name": "stdout",
     "text": "TRAINING DATA: 38635\nVALIDATION DATA: 4293\nTESTING DATA: 4770\n",
     "output_type": "stream"
    }
   ]
  },
  {
   "cell_type": "markdown",
   "source": [
    "# UzRoberta"
   ],
   "metadata": {}
  },
  {
   "cell_type": "code",
   "source": [
    "from transformers import AutoTokenizer\n",
    "\n",
    "tokenizer = AutoTokenizer.from_pretrained('rifkat/uztext-3Gb-BPE-Roberta')"
   ],
   "metadata": {
    "execution": {
     "iopub.status.busy": "2023-05-03T18:44:58.703227Z",
     "iopub.execute_input": "2023-05-03T18:44:58.703697Z",
     "iopub.status.idle": "2023-05-03T18:45:01.219075Z",
     "shell.execute_reply.started": "2023-05-03T18:44:58.703666Z",
     "shell.execute_reply": "2023-05-03T18:45:01.218106Z"
    },
    "trusted": true
   },
   "execution_count": 11,
   "outputs": [
    {
     "output_type": "display_data",
     "data": {
      "text/plain": "Downloading (…)lve/main/config.json:   0%|          | 0.00/612 [00:00<?, ?B/s]",
      "application/vnd.jupyter.widget-view+json": {
       "version_major": 2,
       "version_minor": 0,
       "model_id": "c417bdda49ea40ccae1c9bf30fc99b8d"
      }
     },
     "metadata": {}
    },
    {
     "output_type": "display_data",
     "data": {
      "text/plain": "Downloading (…)olve/main/vocab.json:   0%|          | 0.00/1.32M [00:00<?, ?B/s]",
      "application/vnd.jupyter.widget-view+json": {
       "version_major": 2,
       "version_minor": 0,
       "model_id": "871d972d1aca4c44bbbde86a578e17e6"
      }
     },
     "metadata": {}
    },
    {
     "output_type": "display_data",
     "data": {
      "text/plain": "Downloading (…)olve/main/merges.txt:   0%|          | 0.00/964k [00:00<?, ?B/s]",
      "application/vnd.jupyter.widget-view+json": {
       "version_major": 2,
       "version_minor": 0,
       "model_id": "a0267c82ec71459cb9645dcd6766ee44"
      }
     },
     "metadata": {}
    }
   ]
  },
  {
   "cell_type": "code",
   "source": [
    "MAX_LEN=512"
   ],
   "metadata": {
    "execution": {
     "iopub.status.busy": "2023-05-03T18:45:01.220495Z",
     "iopub.execute_input": "2023-05-03T18:45:01.220847Z",
     "iopub.status.idle": "2023-05-03T18:45:01.225612Z",
     "shell.execute_reply.started": "2023-05-03T18:45:01.220816Z",
     "shell.execute_reply": "2023-05-03T18:45:01.224529Z"
    },
    "trusted": true
   },
   "execution_count": 12,
   "outputs": []
  },
  {
   "cell_type": "code",
   "source": [
    "# tokenize the training data\n",
    "train_inputs = tokenizer(X_train.tolist(), max_length=MAX_LEN, padding='max_length', truncation=True)\n",
    "train_input_ids = np.array(train_inputs['input_ids'])\n",
    "train_attention_masks = np.array(train_inputs['attention_mask'])\n",
    "\n",
    "# tokenize the validation data\n",
    "val_inputs = tokenizer(X_valid.tolist(), max_length=MAX_LEN, padding='max_length', truncation=True)\n",
    "val_input_ids = np.array(val_inputs['input_ids'])\n",
    "val_attention_masks = np.array(val_inputs['attention_mask'])\n",
    "\n",
    "# tokenize the test data\n",
    "test_inputs = tokenizer(X_test.tolist(), max_length=MAX_LEN, padding='max_length', truncation=True)\n",
    "test_input_ids = np.array(test_inputs['input_ids'])\n",
    "test_attention_masks = np.array(test_inputs['attention_mask'])"
   ],
   "metadata": {
    "execution": {
     "iopub.status.busy": "2023-05-03T18:45:01.227173Z",
     "iopub.execute_input": "2023-05-03T18:45:01.227621Z",
     "iopub.status.idle": "2023-05-03T18:45:12.982903Z",
     "shell.execute_reply.started": "2023-05-03T18:45:01.227589Z",
     "shell.execute_reply": "2023-05-03T18:45:12.981991Z"
    },
    "trusted": true
   },
   "execution_count": 13,
   "outputs": []
  },
  {
   "cell_type": "markdown",
   "source": [
    "# Modeling"
   ],
   "metadata": {}
  },
  {
   "cell_type": "code",
   "source": [
    "def create_model(roberta_model, max_len=MAX_LEN):\n",
    "    \n",
    "    opt = tf.keras.optimizers.Adam(\n",
    "        learning_rate=1e-5, \n",
    "        beta_1=0.9, \n",
    "        beta_2=0.999, \n",
    "        epsilon=1e-7\n",
    "    )\n",
    "    loss = tf.keras.losses.CategoricalCrossentropy()\n",
    "    accuracy = tf.keras.metrics.CategoricalAccuracy()\n",
    "\n",
    "    input_ids = tf.keras.Input(shape=(max_len,),dtype='int32')\n",
    "    attention_masks = tf.keras.Input(shape=(max_len,),dtype='int32')\n",
    "    output = roberta_model([input_ids,attention_masks])\n",
    "    output = output[1]\n",
    "    output = tf.keras.layers.Dense(2, activation=tf.nn.softmax)(output)\n",
    "    model = tf.keras.models.Model(inputs = [input_ids,attention_masks],outputs = output)\n",
    "    model.compile(opt, loss=loss, metrics=accuracy)\n",
    "    return model"
   ],
   "metadata": {
    "execution": {
     "iopub.status.busy": "2023-05-03T18:45:12.984097Z",
     "iopub.execute_input": "2023-05-03T18:45:12.984455Z",
     "iopub.status.idle": "2023-05-03T18:45:12.991761Z",
     "shell.execute_reply.started": "2023-05-03T18:45:12.984417Z",
     "shell.execute_reply": "2023-05-03T18:45:12.990829Z"
    },
    "trusted": true
   },
   "execution_count": 14,
   "outputs": []
  },
  {
   "cell_type": "code",
   "source": [
    "roberta_model = TFRobertaModel.from_pretrained('rifkat/uztext-3Gb-BPE-Roberta', from_pt=True)"
   ],
   "metadata": {
    "execution": {
     "iopub.status.busy": "2023-05-03T18:45:12.992898Z",
     "iopub.execute_input": "2023-05-03T18:45:12.993790Z",
     "iopub.status.idle": "2023-05-03T18:45:30.411407Z",
     "shell.execute_reply.started": "2023-05-03T18:45:12.993758Z",
     "shell.execute_reply": "2023-05-03T18:45:30.410585Z"
    },
    "trusted": true
   },
   "execution_count": 15,
   "outputs": [
    {
     "output_type": "display_data",
     "data": {
      "text/plain": "Downloading pytorch_model.bin:   0%|          | 0.00/334M [00:00<?, ?B/s]",
      "application/vnd.jupyter.widget-view+json": {
       "version_major": 2,
       "version_minor": 0,
       "model_id": "895fc43196ce473f84931b237c9da95f"
      }
     },
     "metadata": {}
    },
    {
     "name": "stderr",
     "text": "Some weights of the PyTorch model were not used when initializing the TF 2.0 model TFRobertaModel: ['lm_head.dense.bias', 'roberta.embeddings.position_ids', 'lm_head.dense.weight', 'lm_head.bias', 'lm_head.layer_norm.bias', 'lm_head.decoder.bias', 'lm_head.decoder.weight', 'lm_head.layer_norm.weight']\n- This IS expected if you are initializing TFRobertaModel from a PyTorch model trained on another task or with another architecture (e.g. initializing a TFBertForSequenceClassification model from a BertForPreTraining model).\n- This IS NOT expected if you are initializing TFRobertaModel from a PyTorch model that you expect to be exactly identical (e.g. initializing a TFBertForSequenceClassification model from a BertForSequenceClassification model).\nSome weights or buffers of the TF 2.0 model TFRobertaModel were not initialized from the PyTorch model and are newly initialized: ['roberta.pooler.dense.weight', 'roberta.pooler.dense.bias']\nYou should probably TRAIN this model on a down-stream task to be able to use it for predictions and inference.\n",
     "output_type": "stream"
    }
   ]
  },
  {
   "cell_type": "code",
   "source": [
    "model = create_model(roberta_model, MAX_LEN)\n",
    "model.summary()"
   ],
   "metadata": {
    "execution": {
     "iopub.status.busy": "2023-05-03T18:45:30.412689Z",
     "iopub.execute_input": "2023-05-03T18:45:30.413130Z",
     "iopub.status.idle": "2023-05-03T18:45:35.022766Z",
     "shell.execute_reply.started": "2023-05-03T18:45:30.413095Z",
     "shell.execute_reply": "2023-05-03T18:45:35.021768Z"
    },
    "trusted": true
   },
   "execution_count": 16,
   "outputs": [
    {
     "name": "stdout",
     "text": "Model: \"model\"\n__________________________________________________________________________________________________\n Layer (type)                   Output Shape         Param #     Connected to                     \n==================================================================================================\n input_1 (InputLayer)           [(None, 512)]        0           []                               \n                                                                                                  \n input_2 (InputLayer)           [(None, 512)]        0           []                               \n                                                                                                  \n tf_roberta_model (TFRobertaMod  TFBaseModelOutputWi  83449344   ['input_1[0][0]',                \n el)                            thPoolingAndCrossAt               'input_2[0][0]']                \n                                tentions(last_hidde                                               \n                                n_state=(None, 512,                                               \n                                 768),                                                            \n                                 pooler_output=(Non                                               \n                                e, 768),                                                          \n                                 past_key_values=No                                               \n                                ne, hidden_states=N                                               \n                                one, attentions=Non                                               \n                                e, cross_attentions                                               \n                                =None)                                                            \n                                                                                                  \n dense (Dense)                  (None, 2)            1538        ['tf_roberta_model[0][1]']       \n                                                                                                  \n==================================================================================================\nTotal params: 83,450,882\nTrainable params: 83,450,882\nNon-trainable params: 0\n__________________________________________________________________________________________________\n",
     "output_type": "stream"
    }
   ]
  },
  {
   "cell_type": "code",
   "source": [
    "model.fit([train_input_ids,train_attention_masks], y_train, validation_data=([val_input_ids,val_attention_masks], y_valid), epochs=4, batch_size=16)"
   ],
   "metadata": {
    "execution": {
     "iopub.status.busy": "2023-05-03T18:45:35.023802Z",
     "iopub.execute_input": "2023-05-03T18:45:35.024466Z",
     "iopub.status.idle": "2023-05-03T20:20:10.616165Z",
     "shell.execute_reply.started": "2023-05-03T18:45:35.024431Z",
     "shell.execute_reply": "2023-05-03T20:20:10.615209Z"
    },
    "trusted": true
   },
   "execution_count": 17,
   "outputs": [
    {
     "name": "stdout",
     "text": "Epoch 1/4\n2415/2415 [==============================] - 1437s 586ms/step - loss: 0.4864 - categorical_accuracy: 0.7602 - val_loss: 0.3831 - val_categorical_accuracy: 0.8325\nEpoch 2/4\n2415/2415 [==============================] - 1404s 581ms/step - loss: 0.2975 - categorical_accuracy: 0.8759 - val_loss: 0.2885 - val_categorical_accuracy: 0.8880\nEpoch 3/4\n2415/2415 [==============================] - 1404s 581ms/step - loss: 0.1519 - categorical_accuracy: 0.9441 - val_loss: 0.2649 - val_categorical_accuracy: 0.9131\nEpoch 4/4\n2415/2415 [==============================] - 1405s 582ms/step - loss: 0.0769 - categorical_accuracy: 0.9721 - val_loss: 0.2845 - val_categorical_accuracy: 0.9269\n",
     "output_type": "stream"
    },
    {
     "execution_count": 17,
     "output_type": "execute_result",
     "data": {
      "text/plain": "<keras.callbacks.History at 0x7f73782a3c70>"
     },
     "metadata": {}
    }
   ]
  },
  {
   "cell_type": "markdown",
   "source": [
    "# Results"
   ],
   "metadata": {}
  },
  {
   "cell_type": "code",
   "source": [
    "result = model.predict([test_input_ids,test_attention_masks])"
   ],
   "metadata": {
    "execution": {
     "iopub.status.busy": "2023-05-03T20:20:10.617641Z",
     "iopub.execute_input": "2023-05-03T20:20:10.618025Z",
     "iopub.status.idle": "2023-05-03T20:21:03.513847Z",
     "shell.execute_reply.started": "2023-05-03T20:20:10.617993Z",
     "shell.execute_reply": "2023-05-03T20:21:03.512785Z"
    },
    "trusted": true
   },
   "execution_count": 18,
   "outputs": [
    {
     "name": "stdout",
     "text": "150/150 [==============================] - 53s 342ms/step\n",
     "output_type": "stream"
    }
   ]
  },
  {
   "cell_type": "code",
   "source": [
    "y_pred = np.zeros_like(result)\n",
    "y_pred[np.arange(len(y_pred)), result.argmax(1)] = 1"
   ],
   "metadata": {
    "execution": {
     "iopub.status.busy": "2023-05-03T20:21:03.515541Z",
     "iopub.execute_input": "2023-05-03T20:21:03.516248Z",
     "iopub.status.idle": "2023-05-03T20:21:03.522234Z",
     "shell.execute_reply.started": "2023-05-03T20:21:03.516210Z",
     "shell.execute_reply": "2023-05-03T20:21:03.521034Z"
    },
    "trusted": true
   },
   "execution_count": 19,
   "outputs": []
  },
  {
   "cell_type": "code",
   "source": [
    "print('\\tClassification Report:\\n\\n',classification_report(y_test,y_pred, target_names=['Negative', 'Positive']))"
   ],
   "metadata": {
    "execution": {
     "iopub.status.busy": "2023-05-03T20:21:03.523770Z",
     "iopub.execute_input": "2023-05-03T20:21:03.524977Z",
     "iopub.status.idle": "2023-05-03T20:21:03.553366Z",
     "shell.execute_reply.started": "2023-05-03T20:21:03.524925Z",
     "shell.execute_reply": "2023-05-03T20:21:03.552395Z"
    },
    "trusted": true
   },
   "execution_count": 20,
   "outputs": [
    {
     "name": "stdout",
     "text": "\tClassification Report:\n\n               precision    recall  f1-score   support\n\n    Negative       0.91      0.97      0.94      2431\n    Positive       0.97      0.90      0.93      2339\n\n   micro avg       0.94      0.94      0.94      4770\n   macro avg       0.94      0.94      0.94      4770\nweighted avg       0.94      0.94      0.94      4770\n samples avg       0.94      0.94      0.94      4770\n\n",
     "output_type": "stream"
    }
   ]
  },
  {
   "cell_type": "markdown",
   "source": [
    "## Test with user input"
   ],
   "metadata": {}
  },
  {
   "cell_type": "code",
   "execution_count": null,
   "outputs": [],
   "source": [
    "# import re\n",
    "#\n",
    "# def clean_text(text):\n",
    "#     if not isinstance(text, str):\n",
    "#         return ''\n",
    "#\n",
    "#     # Remove URLs\n",
    "#     text = re.sub(r'http\\S+', '', text)\n",
    "#     # Remove digits\n",
    "#     text = re.sub(r'\\d+', '', text)\n",
    "#\n",
    "#     # exception: replace / - _ with space\n",
    "#     text = re.sub(r'/', ' ', text)\n",
    "#     text = re.sub(r'[-_]', ' ', text)\n",
    "#\n",
    "#     # Replace all ' with ‘ except for cases where it appears as a single character by itself\n",
    "#     text = re.sub(r\"(?<!\\w)'(?!\\w)|'\", '‘', text)\n",
    "#\n",
    "#     # Remove Russian letters\n",
    "#     text = re.sub(r'[А-Яа-я]+', '', text)\n",
    "#\n",
    "#     # Remove all non-word characters except for ‘ and convert to lowercase\n",
    "#     text = re.sub(r\"[^\\w\\s‘’]+(?<!‘)\", \"\", text).lower()\n",
    "#\n",
    "#     # Remove extra whitespace\n",
    "#     text = re.sub(r'\\s+', ' ', text).strip()\n",
    "#     return text"
   ],
   "metadata": {
    "collapsed": false
   }
  },
  {
   "cell_type": "code",
   "source": [
    "# while True:\n",
    "#     input_sentence = input(\"Enter a sentence (or 'exit' to quit): \")\n",
    "#\n",
    "#     if input_sentence.lower() == 'exit':\n",
    "#         print(\"Exiting...\")\n",
    "#         break\n",
    "#\n",
    "#     clean_sentence = clean_text(input_sentence)\n",
    "#\n",
    "#     input_ids = tokenizer.encode(clean_sentence, add_special_tokens=True)\n",
    "#\n",
    "#     input_ids = input_ids[:MAX_LEN]\n",
    "#\n",
    "#     padding_length = MAX_LEN - len(input_ids)\n",
    "#     input_ids = input_ids + ([0] * padding_length)\n",
    "#\n",
    "#     input_ids = np.array([input_ids])\n",
    "#\n",
    "#     attention_masks = np.where(input_ids != 0, 1, 0)\n",
    "#\n",
    "#     pred_probs = model.predict([input_ids, attention_masks])[0]\n",
    "#\n",
    "#     pred_class = np.argmax(pred_probs)\n",
    "#\n",
    "#     if pred_class == 0:\n",
    "#         print(\"Negative: probability of negative class is\", pred_probs[0])\n",
    "#     else:\n",
    "#         print(\"Positive: probability of positive class is\", pred_probs[1])"
   ],
   "metadata": {
    "execution": {
     "iopub.status.busy": "2023-05-03T20:34:34.441353Z",
     "iopub.execute_input": "2023-05-03T20:34:34.441699Z",
     "iopub.status.idle": "2023-05-03T20:57:04.686159Z",
     "shell.execute_reply.started": "2023-05-03T20:34:34.441671Z",
     "shell.execute_reply": "2023-05-03T20:57:04.684873Z"
    },
    "trusted": true
   },
   "execution_count": 28,
   "outputs": [
    {
     "output_type": "stream",
     "name": "stdin",
     "text": "Enter a sentence (or 'exit' to quit):  Toshkentning aholisi eng ko'p bo'lgan tumanlari ma'lum qilindi  Batafsil 👉 https://uzreport.news/society/toshkentning-aholisi-eng-kop-bolgan-tumanlari-malum-qilindi  @uzreport_uz\n"
    },
    {
     "name": "stdout",
     "text": "1/1 [==============================] - 0s 43ms/step\nPositive: probability of positive class is 0.9463582\n",
     "output_type": "stream"
    },
    {
     "output_type": "stream",
     "name": "stdin",
     "text": "Enter a sentence (or 'exit' to quit):  Nemolchi.uz loyihasi muallifi o‘ziga o‘lim tahdidi bo‘lgani haqida xabar berdi  U shu tufayli O‘zbekistonni vaqtincha tark etganini ma’lum qilgan.  👉 https://kun.uz/uz/19304075  Kun.uz rasmiy kanali (https://t.me/kunuz)\n"
    },
    {
     "name": "stdout",
     "text": "1/1 [==============================] - 0s 42ms/step\nNegative: probability of negative class is 0.9849635\n",
     "output_type": "stream"
    },
    {
     "output_type": "stream",
     "name": "stdin",
     "text": "Enter a sentence (or 'exit' to quit):  3 oyda iste'molchilarga 418 milliondan ortiq elektron chek berildi  Batafsil 👉 https://uzreport.news/society/3-oyda-istemolchilarga-418-milliondan-ortiq-elektron-chek-berildi  @uzreport_uz\n"
    },
    {
     "name": "stdout",
     "text": "1/1 [==============================] - 0s 44ms/step\nPositive: probability of positive class is 0.99878293\n",
     "output_type": "stream"
    },
    {
     "output_type": "stream",
     "name": "stdin",
     "text": "Enter a sentence (or 'exit' to quit):  Moskvada Putin qarorgohiga drondan zarba berishga urinish bo‘ldi  Batafsil 👉 https://uzreport.news/world/moskvada-putin-qarorgohiga-drondan-zarba-berishga-urinish-bo-ldi  @uzreport_uz\n"
    },
    {
     "name": "stdout",
     "text": "1/1 [==============================] - 0s 44ms/step\nNegative: probability of negative class is 0.789482\n",
     "output_type": "stream"
    },
    {
     "output_type": "stream",
     "name": "stdin",
     "text": "Enter a sentence (or 'exit' to quit):  O'zbekistonda mart oyida 447 ta “Onix” avtomobili ishlab chiqarilgan  Batafsil 👉 https://uzreport.news/economy/ozbekistonda-mart-oyida-447-ta-onix-avtomobili-ishlab-chiqarilgan  @uzreport_uz\n"
    },
    {
     "name": "stdout",
     "text": "1/1 [==============================] - 0s 48ms/step\nPositive: probability of positive class is 0.85642123\n",
     "output_type": "stream"
    },
    {
     "output_type": "stream",
     "name": "stdin",
     "text": "Enter a sentence (or 'exit' to quit):  Davlat Bobonov jarohati sabab jahon chempionatini oʻtkazib yuboradi  Batafsil 👉 https://uzreport.news/sports/davlat-bobonov-jarohati-sabab-jahon-chempionatini-o-tkazib-yuboradi  @uzreport_uz\n"
    },
    {
     "name": "stdout",
     "text": "1/1 [==============================] - 0s 45ms/step\nPositive: probability of positive class is 0.99732494\n",
     "output_type": "stream"
    },
    {
     "output_type": "stream",
     "name": "stdin",
     "text": "Enter a sentence (or 'exit' to quit):  AQSh Janubiy Koreyaga atom suv osti kemasini yuboradi  Batafsil 👉 https://uzreport.news/world/aqsh-janubiy-koreyaga-atom-suv-osti-kemasini-yuboradi  @uzreport_uz\n"
    },
    {
     "name": "stdout",
     "text": "1/1 [==============================] - 0s 41ms/step\nNegative: probability of negative class is 0.7444644\n",
     "output_type": "stream"
    },
    {
     "output_type": "stream",
     "name": "stdin",
     "text": "Enter a sentence (or 'exit' to quit):  Germaniyaning Siemens kompaniyasi O‘zbekistonda ikkita IES quradi  Batafsil 👉 https://uzreport.news/economy/germaniyaning-siemens-kompaniyasi-o-zbekistonda-ikkita-ies-quradi  @uzreport_uz\n"
    },
    {
     "name": "stdout",
     "text": "1/1 [==============================] - 0s 44ms/step\nNegative: probability of negative class is 0.72676855\n",
     "output_type": "stream"
    },
    {
     "output_type": "stream",
     "name": "stdin",
     "text": "Enter a sentence (or 'exit' to quit):  Germaniyaning Siemens kompaniyasi O‘zbekistonda ikkita IES quradi\n"
    },
    {
     "name": "stdout",
     "text": "1/1 [==============================] - 0s 44ms/step\nPositive: probability of positive class is 0.8474824\n",
     "output_type": "stream"
    },
    {
     "output_type": "stream",
     "name": "stdin",
     "text": "Enter a sentence (or 'exit' to quit):  Milliy gvardiyaga ham jarimaga tortish vakolati berilmoqda\n"
    },
    {
     "name": "stdout",
     "text": "1/1 [==============================] - 0s 44ms/step\nPositive: probability of positive class is 0.99704915\n",
     "output_type": "stream"
    },
    {
     "output_type": "stream",
     "name": "stdin",
     "text": "Enter a sentence (or 'exit' to quit):  Milliy gvardiyaga ham jarimaga tortish vakolati berilmoqda  Batafsil 👉 https://uzreport.news/politics/milliy-gvardiyaga-ham-jarimaga-tortish-vakolati-berilmoqda  @uzreport_uz\n"
    },
    {
     "name": "stdout",
     "text": "1/1 [==============================] - 0s 43ms/step\nPositive: probability of positive class is 0.99821556\n",
     "output_type": "stream"
    },
    {
     "output_type": "stream",
     "name": "stdin",
     "text": "Enter a sentence (or 'exit' to quit):  Farg'onada o'qituvchini kaltaklagan ayol 6 mln so'm jarimaga tortildi  Batafsil 👉 https://uzreport.news/society/fargonada-oqituvchini-kaltaklagan-ayol-6-mln-som-jarimaga-tortildi  @uzreport_uz\n"
    },
    {
     "name": "stdout",
     "text": "1/1 [==============================] - 0s 43ms/step\nPositive: probability of positive class is 0.9998386\n",
     "output_type": "stream"
    },
    {
     "output_type": "stream",
     "name": "stdin",
     "text": "Enter a sentence (or 'exit' to quit):  Samarqandda ikki ayolning bachadoni olib tashlandi: bu ularning qismatimi yoki shifokorning xatosi?  Past Darg‘om tumanida ikki ayolning bachadonini olib tashlashga to‘g‘ri kelgan. Ikki holatga ham bir shifokorning aloqasi borligi aytilmoqda.\n"
    },
    {
     "name": "stdout",
     "text": "1/1 [==============================] - 0s 45ms/step\nNegative: probability of negative class is 0.96964866\n",
     "output_type": "stream"
    },
    {
     "output_type": "stream",
     "name": "stdin",
     "text": "Enter a sentence (or 'exit' to quit):  Toshkentdagi Bo‘z suv kanaliga bir yarim yoshli farzandi bilan o‘zini tashlagan ayol qutqarib qolindi\n"
    },
    {
     "name": "stdout",
     "text": "1/1 [==============================] - 0s 44ms/step\nPositive: probability of positive class is 0.91390145\n",
     "output_type": "stream"
    },
    {
     "output_type": "stream",
     "name": "stdin",
     "text": "Enter a sentence (or 'exit' to quit):  Hokimlarning o‘rinbosarlari soni keskin qisqarishi mumkin  Prezident qarori loyihasida 2023 yil 1 dekabrdan boshlab viloyatlar va Toshkent shahar hokimlari o‘rinbosarlarining cheklangan soni 3 nafar etib belgilanmoqda. Hozirda ayrim hududlarda hokimning o‘nga yaqin o‘rinbosari bor.\n"
    },
    {
     "name": "stdout",
     "text": "1/1 [==============================] - 0s 43ms/step\nPositive: probability of positive class is 0.99984\n",
     "output_type": "stream"
    },
    {
     "output_type": "stream",
     "name": "stdin",
     "text": "Enter a sentence (or 'exit' to quit):  Farg'onada o'qituvchini kaltaklagan ayol 6 mln so'm jarimaga tortildi\n"
    },
    {
     "name": "stdout",
     "text": "1/1 [==============================] - 0s 43ms/step\nPositive: probability of positive class is 0.9386973\n",
     "output_type": "stream"
    },
    {
     "output_type": "stream",
     "name": "stdin",
     "text": "Enter a sentence (or 'exit' to quit):  Ikkinchi jahon urushi qatnashchilari va nogironlarining har biriga 18 million so‘mdan pul mukofoti beriladi\n"
    },
    {
     "name": "stdout",
     "text": "1/1 [==============================] - 0s 47ms/step\nPositive: probability of positive class is 0.9997657\n",
     "output_type": "stream"
    },
    {
     "output_type": "stream",
     "name": "stdin",
     "text": "Enter a sentence (or 'exit' to quit):  Toshkent viloyatida noqonuniy baliq ovlab, tabiatga jami 531 million so‘mlik zarar yetkazgan 3 nafar fuqaro ushlandi\n"
    },
    {
     "name": "stdout",
     "text": "1/1 [==============================] - 0s 43ms/step\nPositive: probability of positive class is 0.9988285\n",
     "output_type": "stream"
    },
    {
     "output_type": "stream",
     "name": "stdin",
     "text": "Enter a sentence (or 'exit' to quit):  Ozarbayjonlik mashhur sambo sportchisi Mehmon Xalilov 7 yoshli o'quvchisini mashg'ulot paytida o'ldirib qo'ydi\n"
    },
    {
     "name": "stdout",
     "text": "1/1 [==============================] - 0s 43ms/step\nNegative: probability of negative class is 0.9999161\n",
     "output_type": "stream"
    },
    {
     "output_type": "stream",
     "name": "stdin",
     "text": "Enter a sentence (or 'exit' to quit):  Rossiya Finlyandiyada AQSh bazalari paydo bo'lsa bunga qarshi javob qaytarishini aytdi\n"
    },
    {
     "name": "stdout",
     "text": "1/1 [==============================] - 0s 42ms/step\nPositive: probability of positive class is 0.9471107\n",
     "output_type": "stream"
    },
    {
     "output_type": "stream",
     "name": "stdin",
     "text": "Enter a sentence (or 'exit' to quit):  I chorakda O'zbekiston banklari 3,1 trln so‘m sof foyda ko'rdi\n"
    },
    {
     "name": "stdout",
     "text": "1/1 [==============================] - 0s 42ms/step\nPositive: probability of positive class is 0.99368757\n",
     "output_type": "stream"
    },
    {
     "output_type": "stream",
     "name": "stdin",
     "text": "Enter a sentence (or 'exit' to quit):  Zelenskiy maxsus operatsiya boshlanganidan beri birinchi marta Germaniyaga boradi\n"
    },
    {
     "name": "stdout",
     "text": "1/1 [==============================] - 0s 43ms/step\nPositive: probability of positive class is 0.89316285\n",
     "output_type": "stream"
    },
    {
     "output_type": "stream",
     "name": "stdin",
     "text": "Enter a sentence (or 'exit' to quit):  Chorshanba kuni tushdan keyin Toshkentda kuchsiz zilzila sezildi. Uning epitsentri Afg‘onistonda bo‘lib, u yerda zilzila kuchi 5 ballni tashkil etgan.\n"
    },
    {
     "name": "stdout",
     "text": "1/1 [==============================] - 0s 44ms/step\nNegative: probability of negative class is 0.9272901\n",
     "output_type": "stream"
    },
    {
     "output_type": "stream",
     "name": "stdin",
     "text": "Enter a sentence (or 'exit' to quit):  Zo‘ravonlikka qarshi kurashuvchi Nemolchi.uz loyihasi asoschisi Irina Matviyenko unga noma’lum shaxslar o‘lim bilan tahdid qilgani sababli O‘zbekistonni vaqtincha tark etganini ma’lum qildi. U bu haqda huquq-tartibot idoralariga ham ariza bilan murojaat yo‘llagan.\n"
    },
    {
     "name": "stdout",
     "text": "1/1 [==============================] - 0s 43ms/step\nNegative: probability of negative class is 0.58344615\n",
     "output_type": "stream"
    },
    {
     "output_type": "stream",
     "name": "stdin",
     "text": "Enter a sentence (or 'exit' to quit):  Rassom Inkuzart Orol dengizining qurigan qismida diametri 100 m bo‘lgan tinchlik ramzini chizib, o‘sha yerga ming tupdan ortiq saksovul ko‘chatlarini o‘tqazdi. “Gazeta.uz”ga bergan intervyusida u buning uchun hech kimdan moddiy yordam so‘ramagani va loyiha uchun avvaldan pul yig‘ib yurganini aytdi.\n"
    },
    {
     "name": "stdout",
     "text": "1/1 [==============================] - 0s 68ms/step\nPositive: probability of positive class is 0.86774385\n",
     "output_type": "stream"
    },
    {
     "output_type": "stream",
     "name": "stdin",
     "text": "Enter a sentence (or 'exit' to quit):  Jizzax viloyatida 3 nafar shaxs soxta Green Card hujjatlarini tayyorlab, 103 kishining 2 mlrd 597 mln so‘mini firibgarlik bilan qo‘lga kiritgani aniqlandi. Ularning biri 9 yilga qamaldi, 2 nafariga qidiruv e’lon qilindi.\n"
    },
    {
     "name": "stdout",
     "text": "1/1 [==============================] - 0s 47ms/step\nPositive: probability of positive class is 0.99789494\n",
     "output_type": "stream"
    },
    {
     "output_type": "stream",
     "name": "stdin",
     "text": "Enter a sentence (or 'exit' to quit):  3-may kuni Toshkent shahrida quyoshning ultrabinafsha nurlanish indeksi 12 balli shkalada 10 ball bo‘lishi kutilmoqda. Nurlanish qoq tush payti maksimal darajaga yaqinlashadi. SSV soat 11:00 dan 16:00 gacha quyosh nurlari ostida uzoq vaqt yurmaslik va boshqa tavsiyalarni berdi.\n"
    },
    {
     "name": "stdout",
     "text": "1/1 [==============================] - 0s 43ms/step\nPositive: probability of positive class is 0.9998678\n",
     "output_type": "stream"
    },
    {
     "output_type": "stream",
     "name": "stdin",
     "text": "Enter a sentence (or 'exit' to quit):  O‘zbekistonda koronavirus infeksiyasi aniqlangan holatlar soni 3843 nafarga yetdi. 83 ta yangi holatning 74 tasi karantin muassasalarida, 8 tasi yuk avtomobillari haydovchilarida va 1 tasi aholi o‘rtasida aniqlangan.\n"
    },
    {
     "name": "stdout",
     "text": "1/1 [==============================] - 0s 44ms/step\nPositive: probability of positive class is 0.8670748\n",
     "output_type": "stream"
    },
    {
     "output_type": "stream",
     "name": "stdin",
     "text": "Enter a sentence (or 'exit' to quit):  Urganch tumanida bojxonachilar Xalqaro tabiatni muhofaza qilish ittifoqining Qizil ro‘yxatiga kiritilgan 47 dona bug‘u va 3 dona jayron shoxlarini olib ketayotgan shaxslarni aniqladi.\n"
    },
    {
     "name": "stdout",
     "text": "1/1 [==============================] - 0s 43ms/step\nPositive: probability of positive class is 0.8755696\n",
     "output_type": "stream"
    },
    {
     "output_type": "stream",
     "name": "stdin",
     "text": "Enter a sentence (or 'exit' to quit):  Ramazon hayiti sanasi e’lon qilinganidan so‘ng Toshkentda va shahardan chiqishda uzundan-uzoq tirbandliklar yuzaga keldi, shaharlararo transport narxlari ko‘tarildi, biznesda esa kimdadir buyurtmalar bekor qilingan bo‘lsa, ba’zilarda mijozlar oqimi ko‘paydi.\n"
    },
    {
     "name": "stdout",
     "text": "1/1 [==============================] - 0s 43ms/step\nNegative: probability of negative class is 0.9888362\n",
     "output_type": "stream"
    },
    {
     "output_type": "stream",
     "name": "stdin",
     "text": "Enter a sentence (or 'exit' to quit):  O‘zbekiston prezidenti Ramazon hayiti tabrigida vijdon erkinligini qaror toptirish, diniy-ma’naviy qadriyatlarni tiklash borasidagi sa’y-harakatlar izchil davom etayotganini ta’kidladi. Joriy yilda cheklovlar olib tashlanishi tufayli 31 mingdan ortiq o‘zbekistonlik Makka va Madinaga umra ziyoratiga bordi.\n"
    },
    {
     "name": "stdout",
     "text": "1/1 [==============================] - 0s 42ms/step\nPositive: probability of positive class is 0.9999759\n",
     "output_type": "stream"
    },
    {
     "output_type": "stream",
     "name": "stdin",
     "text": "Enter a sentence (or 'exit' to quit):  Toshkent shahar IIBB 17 yoshli o‘quvchi qizga hujum qilgan erkak qo‘lga olinganini ma’lum qildi. Ushbu shaxs Samarqand viloyatida yashovchi 26 yoshli fuqaro bo‘lib chiqdi.\n"
    },
    {
     "name": "stdout",
     "text": "1/1 [==============================] - 0s 45ms/step\nPositive: probability of positive class is 0.9454759\n",
     "output_type": "stream"
    },
    {
     "output_type": "stream",
     "name": "stdin",
     "text": "Enter a sentence (or 'exit' to quit):  Ijtimoiy tarmoqlarda bir erkak ko‘chada ketayotgan o‘quvchi qizga hujum qilgani aks etgan video tarqaldi. Qayd etilishicha, hodisa Toshkent shahrining Mirobod tumanida sodir bo‘lgan. Erkakning shaxsi aniqlanmoqda.\n"
    },
    {
     "name": "stdout",
     "text": "1/1 [==============================] - 0s 43ms/step\nNegative: probability of negative class is 0.99971575\n",
     "output_type": "stream"
    },
    {
     "output_type": "stream",
     "name": "stdin",
     "text": "Enter a sentence (or 'exit' to quit):  Negative with a probability of 0.9983214735984802 Enter a sentence (or 'exit' to quit):  O‘zbekistonda xizmat ko‘rsatgan jurnalist, Yozuvchilar uyushmasi a’zosi Murod Xidir 84 yoshida vafot etdi.\n"
    },
    {
     "name": "stdout",
     "text": "1/1 [==============================] - 0s 47ms/step\nNegative: probability of negative class is 0.897933\n",
     "output_type": "stream"
    },
    {
     "output_type": "stream",
     "name": "stdin",
     "text": "Enter a sentence (or 'exit' to quit):  ▫️ O‘zbekistonda Qirg‘izistonga er osti tunnelini buzib o‘tganlar qamoqqa olindi  ▫️ Qumda ulkan belgi yaratgan rassom  ▫️ Psixopat tahdid qiluvchi faol  ▫️ Va yana orqaga qaytish imkoniyatini bering\n"
    },
    {
     "name": "stdout",
     "text": "1/1 [==============================] - 0s 43ms/step\nPositive: probability of positive class is 0.9991714\n",
     "output_type": "stream"
    },
    {
     "output_type": "stream",
     "name": "stdin",
     "text": "Enter a sentence (or 'exit' to quit):  ▫️ Janubiy Koreya Toshkentdagi Seul bog‘ini rekonstruksiya qilish uchun yarim million dollarga yaqin mablag‘ ajratadi\n"
    },
    {
     "name": "stdout",
     "text": "1/1 [==============================] - 0s 42ms/step\nPositive: probability of positive class is 0.99993217\n",
     "output_type": "stream"
    },
    {
     "output_type": "stream",
     "name": "stdin",
     "text": "Enter a sentence (or 'exit' to quit):  ▫️ O‘zbekistonda fuqarolik qurollarini sotib olish bo‘yicha talablar kuchaytirildi. Endi bunday qurol sotib olgan o‘zbekistonliklarning yaqinlari qo‘shimcha tekshiruvdan o‘tishi kerak bo‘ladi.\n"
    },
    {
     "name": "stdout",
     "text": "1/1 [==============================] - 0s 41ms/step\nPositive: probability of positive class is 0.99984074\n",
     "output_type": "stream"
    },
    {
     "output_type": "stream",
     "name": "stdin",
     "text": "Enter a sentence (or 'exit' to quit):  ▫️ Ukraina prezidenti matbuot kotibi Sergey Nikiforov OAVga bergan izohida Ukraina xorijiy hududlarga hujum qilmasligini aytdi.\n"
    },
    {
     "name": "stdout",
     "text": "1/1 [==============================] - 0s 50ms/step\nPositive: probability of positive class is 0.96020716\n",
     "output_type": "stream"
    },
    {
     "output_type": "stream",
     "name": "stdin",
     "text": "Enter a sentence (or 'exit' to quit):  ▫️ Qirgʻiziston bilan chegarada kontrabanda olib kirish uchun tunnel qazgan oʻzbekistonliklar uzoq muddatga qamoqqa tashlandi.\n"
    },
    {
     "name": "stdout",
     "text": "1/1 [==============================] - 0s 43ms/step\nPositive: probability of positive class is 0.99860317\n",
     "output_type": "stream"
    },
    {
     "output_type": "stream",
     "name": "stdin",
     "text": "Enter a sentence (or 'exit' to quit):  ▫️ Farg‘ona viloyatida erkak o‘z xotini va qaynotasini shafqatsizlarcha pichoqladi.\n"
    },
    {
     "name": "stdout",
     "text": "1/1 [==============================] - 0s 45ms/step\nNegative: probability of negative class is 0.9979481\n",
     "output_type": "stream"
    },
    {
     "output_type": "stream",
     "name": "stdin",
     "text": "Enter a sentence (or 'exit' to quit):  Taniqli Vayner Farhod Mannopov 27 yoshida vafot etdi  Ma'lumotlarga ko'ra, u basseynda suzish jarayonida boshidan olgan jarohati tufayli operasiya qilingan, ammo komadan so'ng o'ziga kela olmagan.\n"
    },
    {
     "name": "stdout",
     "text": "1/1 [==============================] - 0s 50ms/step\nNegative: probability of negative class is 0.9727112\n",
     "output_type": "stream"
    },
    {
     "output_type": "stream",
     "name": "stdin",
     "text": "Enter a sentence (or 'exit' to quit):  'zbekiston xalq artisti g'uli Hamroyeva 76 yoshida vafotti  O'zbekiston davlat akademik kotta teatrining prima balerinami edi.\n"
    },
    {
     "name": "stdout",
     "text": "1/1 [==============================] - 0s 43ms/step\nNegative: probability of negative class is 0.99231476\n",
     "output_type": "stream"
    },
    {
     "output_type": "stream",
     "name": "stdin",
     "text": "Enter a sentence (or 'exit' to quit):  16 ta byulletenni to'ldirgan ayol buni o'zboshimchalik bilan amalga oshirdi — Markaziy saylov komissiyasi  Markaziy saylov komissiyasi uchastka komissiyasi a'zosi navbatma-navbat bir nechta byulletenlarda \"uchun\" belgisini qo'ygan videoga munosabat bildirdi. Markaziy saylov komissiyasining ta'kidlashicha, u o'zboshimchalik bilan oila a'zolari nomidan 16 ta byulletenni olgan va to'ldirgan. Tergovga prokuratura jalb qilingan.\n"
    },
    {
     "name": "stdout",
     "text": "1/1 [==============================] - 0s 43ms/step\nNegative: probability of negative class is 0.8980688\n",
     "output_type": "stream"
    },
    {
     "output_type": "stream",
     "name": "stdin",
     "text": "Enter a sentence (or 'exit' to quit):  Ota-onalar diqqatiga: murabbiy mashg'ulot paytida 7 yoshli bolani o'ldirdi  Ozarbayjonda sport ustasi kichkina palatasini urib o'ldirdi. Qo‘pol va xavfli qabul natijasida bolaning bo‘yni sinib, shifoxonada vafot etgan.\n"
    },
    {
     "name": "stdout",
     "text": "1/1 [==============================] - 0s 42ms/step\nNegative: probability of negative class is 0.99999535\n",
     "output_type": "stream"
    },
    {
     "output_type": "stream",
     "name": "stdin",
     "text": "Enter a sentence (or 'exit' to quit):  Ota-onalar va maktab o‘quvchilari diqqatiga: O‘zbekistonda maktab va bog‘chalarda pul yig‘ish qat’iyan man etiladi  Ta'lim muassasalarida ta'mirlash, turli tadbirlar (so'nggi qo'ng'iroq) va bayramlar uchun pul yig'ish qat'iyan man etiladi!\n"
    },
    {
     "name": "stdout",
     "text": "1/1 [==============================] - 0s 41ms/step\nPositive: probability of positive class is 0.98531926\n",
     "output_type": "stream"
    },
    {
     "output_type": "stream",
     "name": "stdin",
     "text": "Enter a sentence (or 'exit' to quit):  Bugun Toshkentda xavfli quyosh radiatsiyasi kutilmoqda  Toshkent shahrida 3 may kuni soat 10:00 dan 16:00 gacha ultrabinafsha nurlanish indeksi 10 ballni tashkil etadi. Bu quyosh radiatsiyasining eng xavfli darajasi.\n"
    },
    {
     "name": "stdout",
     "text": "1/1 [==============================] - 0s 42ms/step\nPositive: probability of positive class is 0.99921036\n",
     "output_type": "stream"
    },
    {
     "output_type": "stream",
     "name": "stdin",
     "text": "Enter a sentence (or 'exit' to quit):  Dahshat: Buxoroda cho‘l hududida 13 yoshli qiz to‘rt kishi tomonidan zo‘rlandi.  Qiz akasining oilasi bilan yashagan. Akasining xotini uni kattalar bilan jinsiy aloqa qilishga majburlagan. U qizni to'rt kishiga berdi.  Erkaklar qizni cho‘l hududidagi tashlandiq binoga olib borib, uchovi navbatma-navbat zo‘rlagan.\n"
    },
    {
     "name": "stdout",
     "text": "1/1 [==============================] - 0s 42ms/step\nNegative: probability of negative class is 0.9991033\n",
     "output_type": "stream"
    },
    {
     "output_type": "stream",
     "name": "stdin",
     "text": "Enter a sentence (or 'exit' to quit):  exit\n"
    },
    {
     "name": "stdout",
     "text": "Exiting...\n",
     "output_type": "stream"
    }
   ]
  },
  {
   "cell_type": "code",
   "source": [
    "# # save the model\n",
    "# model.save('uznews_sentiment_model_tf_92acc.h5')"
   ],
   "metadata": {},
   "execution_count": null,
   "outputs": []
  },
  {
   "cell_type": "code",
   "source": [
    "# !mkdir -p saved_model\n",
    "# model.save('saved_model/uznews_sentiment_model_tf')"
   ],
   "metadata": {
    "execution": {
     "iopub.status.busy": "2023-05-03T21:22:15.497751Z",
     "iopub.execute_input": "2023-05-03T21:22:15.498103Z",
     "iopub.status.idle": "2023-05-03T21:22:48.049608Z",
     "shell.execute_reply.started": "2023-05-03T21:22:15.498071Z",
     "shell.execute_reply": "2023-05-03T21:22:48.048592Z"
    },
    "trusted": true
   },
   "execution_count": 29,
   "outputs": [
    {
     "name": "stdout",
     "text": "huggingface/tokenizers: The current process just got forked, after parallelism has already been used. Disabling parallelism to avoid deadlocks...\nTo disable this warning, you can either:\n\t- Avoid using `tokenizers` before the fork if possible\n\t- Explicitly set the environment variable TOKENIZERS_PARALLELISM=(true | false)\n",
     "output_type": "stream"
    }
   ]
  },
  {
   "cell_type": "code",
   "source": [
    "# import shutil\n",
    "# shutil.make_archive('tf_uznews_sentiment_model', 'zip', '/kaggle/working/saved_model/uznews_sentiment_model_tf')"
   ],
   "metadata": {
    "execution": {
     "iopub.status.busy": "2023-05-03T21:25:25.851511Z",
     "iopub.execute_input": "2023-05-03T21:25:25.851905Z",
     "iopub.status.idle": "2023-05-03T21:26:10.101154Z",
     "shell.execute_reply.started": "2023-05-03T21:25:25.851873Z",
     "shell.execute_reply": "2023-05-03T21:26:10.100204Z"
    },
    "trusted": true
   },
   "execution_count": 31,
   "outputs": [
    {
     "execution_count": 31,
     "output_type": "execute_result",
     "data": {
      "text/plain": "'/kaggle/working/tf_uznews_sentiment_model.zip'"
     },
     "metadata": {}
    }
   ]
  },
  {
   "cell_type": "code",
   "source": [],
   "metadata": {},
   "execution_count": null,
   "outputs": []
  }
 ]
}
